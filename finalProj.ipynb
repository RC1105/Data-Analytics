{
 "cells": [
  {
   "cell_type": "markdown",
   "id": "0d0e8fe3",
   "metadata": {},
   "source": [
    "# INVESTIGATING A MOVIE DATASET\n",
    "## EXPLORATORY DATA ANALYSIS\n",
    "\n"
   ]
  },
  {
   "cell_type": "markdown",
   "id": "06c99f54",
   "metadata": {},
   "source": [
    "###   "
   ]
  },
  {
   "cell_type": "markdown",
   "id": "cb2dada6",
   "metadata": {},
   "source": [
    "## TEAM: 008\n",
    "### PES2UG20CS201  : Md. Sayeed Akram\n",
    "### PES2UG20CS240  : Parth Praveen Shetty\n",
    "### PES2UG20CS260  : Raghav Chugh\n"
   ]
  },
  {
   "cell_type": "markdown",
   "id": "2e669552",
   "metadata": {},
   "source": [
    "###  "
   ]
  },
  {
   "cell_type": "markdown",
   "id": "79808f28",
   "metadata": {},
   "source": [
    "#### IMPORTING LIBRARIES"
   ]
  },
  {
   "cell_type": "code",
   "execution_count": 1,
   "id": "6f73cc3b",
   "metadata": {},
   "outputs": [],
   "source": [
    "import csv\n",
    "import pandas as pd\n",
    "import warnings\n",
    "import matplotlib.pyplot as plt\n",
    "import seaborn as sns\n",
    "import numpy as np\n",
    "from numpy import math\n",
    "\n",
    "from sklearn.model_selection import train_test_split\n",
    "#from sklearn.metrics import r2_score\n",
    "#from sklearn.metrics import mean_squared_error\n",
    "warnings.filterwarnings(\"ignore\")"
   ]
  },
  {
   "cell_type": "markdown",
   "id": "a144ffd3",
   "metadata": {},
   "source": [
    "#### READING CSV FILE"
   ]
  },
  {
   "cell_type": "code",
   "execution_count": 2,
   "id": "e6f1f0e4",
   "metadata": {},
   "outputs": [
    {
     "data": {
      "text/html": [
       "<div>\n",
       "<style scoped>\n",
       "    .dataframe tbody tr th:only-of-type {\n",
       "        vertical-align: middle;\n",
       "    }\n",
       "\n",
       "    .dataframe tbody tr th {\n",
       "        vertical-align: top;\n",
       "    }\n",
       "\n",
       "    .dataframe thead th {\n",
       "        text-align: right;\n",
       "    }\n",
       "</style>\n",
       "<table border=\"1\" class=\"dataframe\">\n",
       "  <thead>\n",
       "    <tr style=\"text-align: right;\">\n",
       "      <th></th>\n",
       "      <th>id</th>\n",
       "      <th>imdb_id</th>\n",
       "      <th>popularity</th>\n",
       "      <th>budget</th>\n",
       "      <th>revenue</th>\n",
       "      <th>original_title</th>\n",
       "      <th>cast</th>\n",
       "      <th>homepage</th>\n",
       "      <th>director</th>\n",
       "      <th>tagline</th>\n",
       "      <th>...</th>\n",
       "      <th>overview</th>\n",
       "      <th>runtime</th>\n",
       "      <th>genres</th>\n",
       "      <th>production_companies</th>\n",
       "      <th>release_date</th>\n",
       "      <th>vote_count</th>\n",
       "      <th>vote_average</th>\n",
       "      <th>release_year</th>\n",
       "      <th>budget_adj</th>\n",
       "      <th>revenue_adj</th>\n",
       "    </tr>\n",
       "  </thead>\n",
       "  <tbody>\n",
       "    <tr>\n",
       "      <th>0</th>\n",
       "      <td>135397</td>\n",
       "      <td>tt0369610</td>\n",
       "      <td>32.985763</td>\n",
       "      <td>150000000</td>\n",
       "      <td>1513528810</td>\n",
       "      <td>Jurassic World</td>\n",
       "      <td>Chris Pratt|Bryce Dallas Howard|Irrfan Khan|Vi...</td>\n",
       "      <td>http://www.jurassicworld.com/</td>\n",
       "      <td>Colin Trevorrow</td>\n",
       "      <td>The park is open.</td>\n",
       "      <td>...</td>\n",
       "      <td>Twenty-two years after the events of Jurassic ...</td>\n",
       "      <td>124</td>\n",
       "      <td>Action|Adventure|Science Fiction|Thriller</td>\n",
       "      <td>Universal Studios|Amblin Entertainment|Legenda...</td>\n",
       "      <td>6/9/2015</td>\n",
       "      <td>5562</td>\n",
       "      <td>6.5</td>\n",
       "      <td>2015</td>\n",
       "      <td>137999939.3</td>\n",
       "      <td>1.392446e+09</td>\n",
       "    </tr>\n",
       "    <tr>\n",
       "      <th>1</th>\n",
       "      <td>76341</td>\n",
       "      <td>tt1392190</td>\n",
       "      <td>28.419936</td>\n",
       "      <td>150000000</td>\n",
       "      <td>378436354</td>\n",
       "      <td>Mad Max: Fury Road</td>\n",
       "      <td>Tom Hardy|Charlize Theron|Hugh Keays-Byrne|Nic...</td>\n",
       "      <td>http://www.madmaxmovie.com/</td>\n",
       "      <td>George Miller</td>\n",
       "      <td>What a Lovely Day.</td>\n",
       "      <td>...</td>\n",
       "      <td>An apocalyptic story set in the furthest reach...</td>\n",
       "      <td>120</td>\n",
       "      <td>Action|Adventure|Science Fiction|Thriller</td>\n",
       "      <td>Village Roadshow Pictures|Kennedy Miller Produ...</td>\n",
       "      <td>5/13/2015</td>\n",
       "      <td>6185</td>\n",
       "      <td>7.1</td>\n",
       "      <td>2015</td>\n",
       "      <td>137999939.3</td>\n",
       "      <td>3.481613e+08</td>\n",
       "    </tr>\n",
       "    <tr>\n",
       "      <th>2</th>\n",
       "      <td>262500</td>\n",
       "      <td>tt2908446</td>\n",
       "      <td>13.112507</td>\n",
       "      <td>110000000</td>\n",
       "      <td>295238201</td>\n",
       "      <td>Insurgent</td>\n",
       "      <td>Shailene Woodley|Theo James|Kate Winslet|Ansel...</td>\n",
       "      <td>http://www.thedivergentseries.movie/#insurgent</td>\n",
       "      <td>Robert Schwentke</td>\n",
       "      <td>One Choice Can Destroy You</td>\n",
       "      <td>...</td>\n",
       "      <td>Beatrice Prior must confront her inner demons ...</td>\n",
       "      <td>119</td>\n",
       "      <td>Adventure|Science Fiction|Thriller</td>\n",
       "      <td>Summit Entertainment|Mandeville Films|Red Wago...</td>\n",
       "      <td>3/18/2015</td>\n",
       "      <td>2480</td>\n",
       "      <td>6.3</td>\n",
       "      <td>2015</td>\n",
       "      <td>101199955.5</td>\n",
       "      <td>2.716190e+08</td>\n",
       "    </tr>\n",
       "    <tr>\n",
       "      <th>3</th>\n",
       "      <td>140607</td>\n",
       "      <td>tt2488496</td>\n",
       "      <td>11.173104</td>\n",
       "      <td>200000000</td>\n",
       "      <td>2068178225</td>\n",
       "      <td>Star Wars: The Force Awakens</td>\n",
       "      <td>Harrison Ford|Mark Hamill|Carrie Fisher|Adam D...</td>\n",
       "      <td>http://www.starwars.com/films/star-wars-episod...</td>\n",
       "      <td>J.J. Abrams</td>\n",
       "      <td>Every generation has a story.</td>\n",
       "      <td>...</td>\n",
       "      <td>Thirty years after defeating the Galactic Empi...</td>\n",
       "      <td>136</td>\n",
       "      <td>Action|Adventure|Science Fiction|Fantasy</td>\n",
       "      <td>Lucasfilm|Truenorth Productions|Bad Robot</td>\n",
       "      <td>12/15/2015</td>\n",
       "      <td>5292</td>\n",
       "      <td>7.5</td>\n",
       "      <td>2015</td>\n",
       "      <td>183999919.0</td>\n",
       "      <td>1.902723e+09</td>\n",
       "    </tr>\n",
       "    <tr>\n",
       "      <th>4</th>\n",
       "      <td>168259</td>\n",
       "      <td>tt2820852</td>\n",
       "      <td>9.335014</td>\n",
       "      <td>190000000</td>\n",
       "      <td>1506249360</td>\n",
       "      <td>Furious 7</td>\n",
       "      <td>Vin Diesel|Paul Walker|Jason Statham|Michelle ...</td>\n",
       "      <td>http://www.furious7.com/</td>\n",
       "      <td>James Wan</td>\n",
       "      <td>Vengeance Hits Home</td>\n",
       "      <td>...</td>\n",
       "      <td>Deckard Shaw seeks revenge against Dominic Tor...</td>\n",
       "      <td>137</td>\n",
       "      <td>Action|Crime|Thriller</td>\n",
       "      <td>Universal Pictures|Original Film|Media Rights ...</td>\n",
       "      <td>4/1/2015</td>\n",
       "      <td>2947</td>\n",
       "      <td>7.3</td>\n",
       "      <td>2015</td>\n",
       "      <td>174799923.1</td>\n",
       "      <td>1.385749e+09</td>\n",
       "    </tr>\n",
       "  </tbody>\n",
       "</table>\n",
       "<p>5 rows × 21 columns</p>\n",
       "</div>"
      ],
      "text/plain": [
       "       id    imdb_id  popularity     budget     revenue  \\\n",
       "0  135397  tt0369610   32.985763  150000000  1513528810   \n",
       "1   76341  tt1392190   28.419936  150000000   378436354   \n",
       "2  262500  tt2908446   13.112507  110000000   295238201   \n",
       "3  140607  tt2488496   11.173104  200000000  2068178225   \n",
       "4  168259  tt2820852    9.335014  190000000  1506249360   \n",
       "\n",
       "                 original_title  \\\n",
       "0                Jurassic World   \n",
       "1            Mad Max: Fury Road   \n",
       "2                     Insurgent   \n",
       "3  Star Wars: The Force Awakens   \n",
       "4                     Furious 7   \n",
       "\n",
       "                                                cast  \\\n",
       "0  Chris Pratt|Bryce Dallas Howard|Irrfan Khan|Vi...   \n",
       "1  Tom Hardy|Charlize Theron|Hugh Keays-Byrne|Nic...   \n",
       "2  Shailene Woodley|Theo James|Kate Winslet|Ansel...   \n",
       "3  Harrison Ford|Mark Hamill|Carrie Fisher|Adam D...   \n",
       "4  Vin Diesel|Paul Walker|Jason Statham|Michelle ...   \n",
       "\n",
       "                                            homepage          director  \\\n",
       "0                      http://www.jurassicworld.com/   Colin Trevorrow   \n",
       "1                        http://www.madmaxmovie.com/     George Miller   \n",
       "2     http://www.thedivergentseries.movie/#insurgent  Robert Schwentke   \n",
       "3  http://www.starwars.com/films/star-wars-episod...       J.J. Abrams   \n",
       "4                           http://www.furious7.com/         James Wan   \n",
       "\n",
       "                         tagline  ...  \\\n",
       "0              The park is open.  ...   \n",
       "1             What a Lovely Day.  ...   \n",
       "2     One Choice Can Destroy You  ...   \n",
       "3  Every generation has a story.  ...   \n",
       "4            Vengeance Hits Home  ...   \n",
       "\n",
       "                                            overview runtime  \\\n",
       "0  Twenty-two years after the events of Jurassic ...     124   \n",
       "1  An apocalyptic story set in the furthest reach...     120   \n",
       "2  Beatrice Prior must confront her inner demons ...     119   \n",
       "3  Thirty years after defeating the Galactic Empi...     136   \n",
       "4  Deckard Shaw seeks revenge against Dominic Tor...     137   \n",
       "\n",
       "                                      genres  \\\n",
       "0  Action|Adventure|Science Fiction|Thriller   \n",
       "1  Action|Adventure|Science Fiction|Thriller   \n",
       "2         Adventure|Science Fiction|Thriller   \n",
       "3   Action|Adventure|Science Fiction|Fantasy   \n",
       "4                      Action|Crime|Thriller   \n",
       "\n",
       "                                production_companies release_date vote_count  \\\n",
       "0  Universal Studios|Amblin Entertainment|Legenda...     6/9/2015       5562   \n",
       "1  Village Roadshow Pictures|Kennedy Miller Produ...    5/13/2015       6185   \n",
       "2  Summit Entertainment|Mandeville Films|Red Wago...    3/18/2015       2480   \n",
       "3          Lucasfilm|Truenorth Productions|Bad Robot   12/15/2015       5292   \n",
       "4  Universal Pictures|Original Film|Media Rights ...     4/1/2015       2947   \n",
       "\n",
       "   vote_average  release_year   budget_adj   revenue_adj  \n",
       "0           6.5          2015  137999939.3  1.392446e+09  \n",
       "1           7.1          2015  137999939.3  3.481613e+08  \n",
       "2           6.3          2015  101199955.5  2.716190e+08  \n",
       "3           7.5          2015  183999919.0  1.902723e+09  \n",
       "4           7.3          2015  174799923.1  1.385749e+09  \n",
       "\n",
       "[5 rows x 21 columns]"
      ]
     },
     "execution_count": 2,
     "metadata": {},
     "output_type": "execute_result"
    }
   ],
   "source": [
    "df=pd.read_csv(\"tmdb_movies_data.csv\") #reading csv file\n",
    "df.head() #first 5 "
   ]
  },
  {
   "cell_type": "markdown",
   "id": "0227400f",
   "metadata": {},
   "source": [
    "#### Number of Rows and Columns "
   ]
  },
  {
   "cell_type": "code",
   "execution_count": 3,
   "id": "8ad6e086",
   "metadata": {},
   "outputs": [
    {
     "name": "stdout",
     "output_type": "stream",
     "text": [
      "Number of rows in dataset:  10866\n",
      "Number of columns in dataset:  21\n",
      "\n",
      "\n",
      "\n",
      "Attributes of dataset are:-\n",
      "\n",
      " Index(['id', 'imdb_id', 'popularity', 'budget', 'revenue', 'original_title',\n",
      "       'cast', 'homepage', 'director', 'tagline', 'keywords', 'overview',\n",
      "       'runtime', 'genres', 'production_companies', 'release_date',\n",
      "       'vote_count', 'vote_average', 'release_year', 'budget_adj',\n",
      "       'revenue_adj'],\n",
      "      dtype='object')\n"
     ]
    }
   ],
   "source": [
    "print(\"Number of rows in dataset: \",len(df.index)) #number of rows\n",
    "print(\"Number of columns in dataset: \",len(df.columns)) #number of attributes\n",
    "print('\\n\\n')\n",
    "print(\"Attributes of dataset are:-\\n\\n\", df.columns) #names of attributes"
   ]
  },
  {
   "cell_type": "markdown",
   "id": "52c7904b",
   "metadata": {},
   "source": [
    "#### Exploring Dataset"
   ]
  },
  {
   "cell_type": "code",
   "execution_count": 4,
   "id": "576c356f",
   "metadata": {},
   "outputs": [
    {
     "name": "stdout",
     "output_type": "stream",
     "text": [
      "<class 'pandas.core.frame.DataFrame'>\n",
      "RangeIndex: 10866 entries, 0 to 10865\n",
      "Data columns (total 21 columns):\n",
      " #   Column                Non-Null Count  Dtype  \n",
      "---  ------                --------------  -----  \n",
      " 0   id                    10866 non-null  int64  \n",
      " 1   imdb_id               10856 non-null  object \n",
      " 2   popularity            10866 non-null  float64\n",
      " 3   budget                10866 non-null  int64  \n",
      " 4   revenue               10866 non-null  int64  \n",
      " 5   original_title        10866 non-null  object \n",
      " 6   cast                  10790 non-null  object \n",
      " 7   homepage              2936 non-null   object \n",
      " 8   director              10822 non-null  object \n",
      " 9   tagline               8042 non-null   object \n",
      " 10  keywords              9373 non-null   object \n",
      " 11  overview              10862 non-null  object \n",
      " 12  runtime               10866 non-null  int64  \n",
      " 13  genres                10843 non-null  object \n",
      " 14  production_companies  9836 non-null   object \n",
      " 15  release_date          10866 non-null  object \n",
      " 16  vote_count            10866 non-null  int64  \n",
      " 17  vote_average          10866 non-null  float64\n",
      " 18  release_year          10866 non-null  int64  \n",
      " 19  budget_adj            10866 non-null  float64\n",
      " 20  revenue_adj           10866 non-null  float64\n",
      "dtypes: float64(4), int64(6), object(11)\n",
      "memory usage: 1.7+ MB\n"
     ]
    }
   ],
   "source": [
    "df.info()"
   ]
  },
  {
   "cell_type": "code",
   "execution_count": 5,
   "id": "6fb253b3",
   "metadata": {},
   "outputs": [
    {
     "data": {
      "text/plain": [
       "id                        int64\n",
       "imdb_id                  object\n",
       "popularity              float64\n",
       "budget                    int64\n",
       "revenue                   int64\n",
       "original_title           object\n",
       "cast                     object\n",
       "homepage                 object\n",
       "director                 object\n",
       "tagline                  object\n",
       "keywords                 object\n",
       "overview                 object\n",
       "runtime                   int64\n",
       "genres                   object\n",
       "production_companies     object\n",
       "release_date             object\n",
       "vote_count                int64\n",
       "vote_average            float64\n",
       "release_year              int64\n",
       "budget_adj              float64\n",
       "revenue_adj             float64\n",
       "dtype: object"
      ]
     },
     "execution_count": 5,
     "metadata": {},
     "output_type": "execute_result"
    }
   ],
   "source": [
    "df.dtypes #all datatypes"
   ]
  },
  {
   "cell_type": "code",
   "execution_count": 6,
   "id": "9111c2da",
   "metadata": {},
   "outputs": [
    {
     "data": {
      "text/html": [
       "<div>\n",
       "<style scoped>\n",
       "    .dataframe tbody tr th:only-of-type {\n",
       "        vertical-align: middle;\n",
       "    }\n",
       "\n",
       "    .dataframe tbody tr th {\n",
       "        vertical-align: top;\n",
       "    }\n",
       "\n",
       "    .dataframe thead th {\n",
       "        text-align: right;\n",
       "    }\n",
       "</style>\n",
       "<table border=\"1\" class=\"dataframe\">\n",
       "  <thead>\n",
       "    <tr style=\"text-align: right;\">\n",
       "      <th></th>\n",
       "      <th>id</th>\n",
       "      <th>popularity</th>\n",
       "      <th>budget</th>\n",
       "      <th>revenue</th>\n",
       "      <th>runtime</th>\n",
       "      <th>vote_count</th>\n",
       "      <th>vote_average</th>\n",
       "      <th>release_year</th>\n",
       "      <th>budget_adj</th>\n",
       "      <th>revenue_adj</th>\n",
       "    </tr>\n",
       "  </thead>\n",
       "  <tbody>\n",
       "    <tr>\n",
       "      <th>count</th>\n",
       "      <td>10866.000000</td>\n",
       "      <td>10866.000000</td>\n",
       "      <td>1.086600e+04</td>\n",
       "      <td>1.086600e+04</td>\n",
       "      <td>10866.000000</td>\n",
       "      <td>10866.000000</td>\n",
       "      <td>10866.000000</td>\n",
       "      <td>10866.000000</td>\n",
       "      <td>1.086600e+04</td>\n",
       "      <td>1.086600e+04</td>\n",
       "    </tr>\n",
       "    <tr>\n",
       "      <th>mean</th>\n",
       "      <td>66064.177434</td>\n",
       "      <td>0.646441</td>\n",
       "      <td>1.462570e+07</td>\n",
       "      <td>3.982332e+07</td>\n",
       "      <td>102.070863</td>\n",
       "      <td>217.389748</td>\n",
       "      <td>5.974922</td>\n",
       "      <td>2001.322658</td>\n",
       "      <td>1.755104e+07</td>\n",
       "      <td>5.136436e+07</td>\n",
       "    </tr>\n",
       "    <tr>\n",
       "      <th>std</th>\n",
       "      <td>92130.136561</td>\n",
       "      <td>1.000185</td>\n",
       "      <td>3.091321e+07</td>\n",
       "      <td>1.170035e+08</td>\n",
       "      <td>31.381405</td>\n",
       "      <td>575.619058</td>\n",
       "      <td>0.935142</td>\n",
       "      <td>12.812941</td>\n",
       "      <td>3.430616e+07</td>\n",
       "      <td>1.446325e+08</td>\n",
       "    </tr>\n",
       "    <tr>\n",
       "      <th>min</th>\n",
       "      <td>5.000000</td>\n",
       "      <td>0.000065</td>\n",
       "      <td>0.000000e+00</td>\n",
       "      <td>0.000000e+00</td>\n",
       "      <td>0.000000</td>\n",
       "      <td>10.000000</td>\n",
       "      <td>1.500000</td>\n",
       "      <td>1960.000000</td>\n",
       "      <td>0.000000e+00</td>\n",
       "      <td>0.000000e+00</td>\n",
       "    </tr>\n",
       "    <tr>\n",
       "      <th>25%</th>\n",
       "      <td>10596.250000</td>\n",
       "      <td>0.207583</td>\n",
       "      <td>0.000000e+00</td>\n",
       "      <td>0.000000e+00</td>\n",
       "      <td>90.000000</td>\n",
       "      <td>17.000000</td>\n",
       "      <td>5.400000</td>\n",
       "      <td>1995.000000</td>\n",
       "      <td>0.000000e+00</td>\n",
       "      <td>0.000000e+00</td>\n",
       "    </tr>\n",
       "    <tr>\n",
       "      <th>50%</th>\n",
       "      <td>20669.000000</td>\n",
       "      <td>0.383856</td>\n",
       "      <td>0.000000e+00</td>\n",
       "      <td>0.000000e+00</td>\n",
       "      <td>99.000000</td>\n",
       "      <td>38.000000</td>\n",
       "      <td>6.000000</td>\n",
       "      <td>2006.000000</td>\n",
       "      <td>0.000000e+00</td>\n",
       "      <td>0.000000e+00</td>\n",
       "    </tr>\n",
       "    <tr>\n",
       "      <th>75%</th>\n",
       "      <td>75610.000000</td>\n",
       "      <td>0.713817</td>\n",
       "      <td>1.500000e+07</td>\n",
       "      <td>2.400000e+07</td>\n",
       "      <td>111.000000</td>\n",
       "      <td>145.750000</td>\n",
       "      <td>6.600000</td>\n",
       "      <td>2011.000000</td>\n",
       "      <td>2.085325e+07</td>\n",
       "      <td>3.369710e+07</td>\n",
       "    </tr>\n",
       "    <tr>\n",
       "      <th>max</th>\n",
       "      <td>417859.000000</td>\n",
       "      <td>32.985763</td>\n",
       "      <td>4.250000e+08</td>\n",
       "      <td>2.781506e+09</td>\n",
       "      <td>900.000000</td>\n",
       "      <td>9767.000000</td>\n",
       "      <td>9.200000</td>\n",
       "      <td>2015.000000</td>\n",
       "      <td>4.250000e+08</td>\n",
       "      <td>2.827124e+09</td>\n",
       "    </tr>\n",
       "  </tbody>\n",
       "</table>\n",
       "</div>"
      ],
      "text/plain": [
       "                  id    popularity        budget       revenue       runtime  \\\n",
       "count   10866.000000  10866.000000  1.086600e+04  1.086600e+04  10866.000000   \n",
       "mean    66064.177434      0.646441  1.462570e+07  3.982332e+07    102.070863   \n",
       "std     92130.136561      1.000185  3.091321e+07  1.170035e+08     31.381405   \n",
       "min         5.000000      0.000065  0.000000e+00  0.000000e+00      0.000000   \n",
       "25%     10596.250000      0.207583  0.000000e+00  0.000000e+00     90.000000   \n",
       "50%     20669.000000      0.383856  0.000000e+00  0.000000e+00     99.000000   \n",
       "75%     75610.000000      0.713817  1.500000e+07  2.400000e+07    111.000000   \n",
       "max    417859.000000     32.985763  4.250000e+08  2.781506e+09    900.000000   \n",
       "\n",
       "         vote_count  vote_average  release_year    budget_adj   revenue_adj  \n",
       "count  10866.000000  10866.000000  10866.000000  1.086600e+04  1.086600e+04  \n",
       "mean     217.389748      5.974922   2001.322658  1.755104e+07  5.136436e+07  \n",
       "std      575.619058      0.935142     12.812941  3.430616e+07  1.446325e+08  \n",
       "min       10.000000      1.500000   1960.000000  0.000000e+00  0.000000e+00  \n",
       "25%       17.000000      5.400000   1995.000000  0.000000e+00  0.000000e+00  \n",
       "50%       38.000000      6.000000   2006.000000  0.000000e+00  0.000000e+00  \n",
       "75%      145.750000      6.600000   2011.000000  2.085325e+07  3.369710e+07  \n",
       "max     9767.000000      9.200000   2015.000000  4.250000e+08  2.827124e+09  "
      ]
     },
     "execution_count": 6,
     "metadata": {},
     "output_type": "execute_result"
    }
   ],
   "source": [
    "df.describe() #gives summary"
   ]
  },
  {
   "cell_type": "markdown",
   "id": "b461423d",
   "metadata": {},
   "source": [
    "#### Outliers"
   ]
  },
  {
   "cell_type": "code",
   "execution_count": 7,
   "id": "4bfea808",
   "metadata": {},
   "outputs": [
    {
     "name": "stdout",
     "output_type": "stream",
     "text": [
      "OUTLIERS\n"
     ]
    },
    {
     "data": {
      "text/plain": [
       "budget                  1370\n",
       "budget_adj              1231\n",
       "cast                       0\n",
       "director                   0\n",
       "genres                     0\n",
       "homepage                   0\n",
       "id                      1606\n",
       "imdb_id                    0\n",
       "keywords                   0\n",
       "original_title             0\n",
       "overview                   0\n",
       "popularity               946\n",
       "production_companies       0\n",
       "release_date               0\n",
       "release_year             403\n",
       "revenue                 1736\n",
       "revenue_adj             1689\n",
       "runtime                  781\n",
       "tagline                    0\n",
       "vote_average             197\n",
       "vote_count              1518\n",
       "dtype: int64"
      ]
     },
     "execution_count": 7,
     "metadata": {},
     "output_type": "execute_result"
    }
   ],
   "source": [
    "Q1 = df.quantile(0.25) \n",
    "Q3 = df.quantile(0.75)\n",
    "IQR = Q3 - Q1 #inter-quartile range\n",
    "\n",
    "print(\"OUTLIERS\")\n",
    "((df < (Q1 - 1.5 * IQR)) | (df > (Q3 + 1.5 * IQR))).sum() #sum of outliers in each attribute"
   ]
  },
  {
   "cell_type": "markdown",
   "id": "ef6331fa",
   "metadata": {},
   "source": [
    "#### Missing Values"
   ]
  },
  {
   "cell_type": "code",
   "execution_count": 8,
   "id": "01aa01d9",
   "metadata": {},
   "outputs": [
    {
     "name": "stdout",
     "output_type": "stream",
     "text": [
      "MISSING VALUES\n"
     ]
    },
    {
     "data": {
      "text/plain": [
       "id                         0\n",
       "imdb_id                   10\n",
       "popularity                 0\n",
       "budget                     0\n",
       "revenue                    0\n",
       "original_title             0\n",
       "cast                      76\n",
       "homepage                7930\n",
       "director                  44\n",
       "tagline                 2824\n",
       "keywords                1493\n",
       "overview                   4\n",
       "runtime                    0\n",
       "genres                    23\n",
       "production_companies    1030\n",
       "release_date               0\n",
       "vote_count                 0\n",
       "vote_average               0\n",
       "release_year               0\n",
       "budget_adj                 0\n",
       "revenue_adj                0\n",
       "dtype: int64"
      ]
     },
     "execution_count": 8,
     "metadata": {},
     "output_type": "execute_result"
    }
   ],
   "source": [
    "print(\"MISSING VALUES\")\n",
    "df.isnull().sum()"
   ]
  },
  {
   "cell_type": "markdown",
   "id": "b0cf9825",
   "metadata": {},
   "source": [
    "#### Duplicates, Incorrect and Incomplete values"
   ]
  },
  {
   "cell_type": "code",
   "execution_count": 9,
   "id": "acf6115a",
   "metadata": {},
   "outputs": [
    {
     "name": "stdout",
     "output_type": "stream",
     "text": [
      "Duplicates:  1\n",
      "Incorrect: 23455\n",
      "Incomplete: 13434\n"
     ]
    }
   ],
   "source": [
    "print(\"Duplicates: \",df.duplicated().sum())\n",
    "\n",
    "n=len(df.columns)\n",
    "sm=0\n",
    "for i in range (0, n):\n",
    "    k=df.columns[i]\n",
    "    sm+=(df[k]==0).sum()\n",
    "print(\"Incorrect:\",sm)\n",
    "\n",
    "\n",
    "df3=df.isnull().sum()\n",
    "sm=0\n",
    "for i in range (0,n):\n",
    "    sm+=(df3[i])\n",
    "print(\"Incomplete:\",sm)\n"
   ]
  },
  {
   "cell_type": "markdown",
   "id": "04bc08e1",
   "metadata": {},
   "source": [
    "#### Correlation - using numbers"
   ]
  },
  {
   "cell_type": "code",
   "execution_count": 10,
   "id": "2cfecf18",
   "metadata": {},
   "outputs": [
    {
     "data": {
      "text/html": [
       "<div>\n",
       "<style scoped>\n",
       "    .dataframe tbody tr th:only-of-type {\n",
       "        vertical-align: middle;\n",
       "    }\n",
       "\n",
       "    .dataframe tbody tr th {\n",
       "        vertical-align: top;\n",
       "    }\n",
       "\n",
       "    .dataframe thead th {\n",
       "        text-align: right;\n",
       "    }\n",
       "</style>\n",
       "<table border=\"1\" class=\"dataframe\">\n",
       "  <thead>\n",
       "    <tr style=\"text-align: right;\">\n",
       "      <th></th>\n",
       "      <th>id</th>\n",
       "      <th>popularity</th>\n",
       "      <th>budget</th>\n",
       "      <th>revenue</th>\n",
       "      <th>runtime</th>\n",
       "      <th>vote_count</th>\n",
       "      <th>vote_average</th>\n",
       "      <th>release_year</th>\n",
       "      <th>budget_adj</th>\n",
       "      <th>revenue_adj</th>\n",
       "    </tr>\n",
       "  </thead>\n",
       "  <tbody>\n",
       "    <tr>\n",
       "      <th>id</th>\n",
       "      <td>1.000000</td>\n",
       "      <td>-0.014350</td>\n",
       "      <td>-0.141351</td>\n",
       "      <td>-0.099227</td>\n",
       "      <td>-0.088360</td>\n",
       "      <td>-0.035551</td>\n",
       "      <td>-0.058363</td>\n",
       "      <td>0.511364</td>\n",
       "      <td>-0.189015</td>\n",
       "      <td>-0.138477</td>\n",
       "    </tr>\n",
       "    <tr>\n",
       "      <th>popularity</th>\n",
       "      <td>-0.014350</td>\n",
       "      <td>1.000000</td>\n",
       "      <td>0.545472</td>\n",
       "      <td>0.663358</td>\n",
       "      <td>0.139033</td>\n",
       "      <td>0.800828</td>\n",
       "      <td>0.209511</td>\n",
       "      <td>0.089801</td>\n",
       "      <td>0.513550</td>\n",
       "      <td>0.609083</td>\n",
       "    </tr>\n",
       "    <tr>\n",
       "      <th>budget</th>\n",
       "      <td>-0.141351</td>\n",
       "      <td>0.545472</td>\n",
       "      <td>1.000000</td>\n",
       "      <td>0.734901</td>\n",
       "      <td>0.191283</td>\n",
       "      <td>0.632702</td>\n",
       "      <td>0.081014</td>\n",
       "      <td>0.115931</td>\n",
       "      <td>0.968963</td>\n",
       "      <td>0.622505</td>\n",
       "    </tr>\n",
       "    <tr>\n",
       "      <th>revenue</th>\n",
       "      <td>-0.099227</td>\n",
       "      <td>0.663358</td>\n",
       "      <td>0.734901</td>\n",
       "      <td>1.000000</td>\n",
       "      <td>0.162838</td>\n",
       "      <td>0.791175</td>\n",
       "      <td>0.172564</td>\n",
       "      <td>0.057048</td>\n",
       "      <td>0.706427</td>\n",
       "      <td>0.919110</td>\n",
       "    </tr>\n",
       "    <tr>\n",
       "      <th>runtime</th>\n",
       "      <td>-0.088360</td>\n",
       "      <td>0.139033</td>\n",
       "      <td>0.191283</td>\n",
       "      <td>0.162838</td>\n",
       "      <td>1.000000</td>\n",
       "      <td>0.163278</td>\n",
       "      <td>0.156835</td>\n",
       "      <td>-0.117204</td>\n",
       "      <td>0.221114</td>\n",
       "      <td>0.175676</td>\n",
       "    </tr>\n",
       "  </tbody>\n",
       "</table>\n",
       "</div>"
      ],
      "text/plain": [
       "                  id  popularity    budget   revenue   runtime  vote_count  \\\n",
       "id          1.000000   -0.014350 -0.141351 -0.099227 -0.088360   -0.035551   \n",
       "popularity -0.014350    1.000000  0.545472  0.663358  0.139033    0.800828   \n",
       "budget     -0.141351    0.545472  1.000000  0.734901  0.191283    0.632702   \n",
       "revenue    -0.099227    0.663358  0.734901  1.000000  0.162838    0.791175   \n",
       "runtime    -0.088360    0.139033  0.191283  0.162838  1.000000    0.163278   \n",
       "\n",
       "            vote_average  release_year  budget_adj  revenue_adj  \n",
       "id             -0.058363      0.511364   -0.189015    -0.138477  \n",
       "popularity      0.209511      0.089801    0.513550     0.609083  \n",
       "budget          0.081014      0.115931    0.968963     0.622505  \n",
       "revenue         0.172564      0.057048    0.706427     0.919110  \n",
       "runtime         0.156835     -0.117204    0.221114     0.175676  "
      ]
     },
     "execution_count": 10,
     "metadata": {},
     "output_type": "execute_result"
    }
   ],
   "source": [
    "df7=df.corr()\n",
    "df7.head()"
   ]
  },
  {
   "cell_type": "code",
   "execution_count": 11,
   "id": "bfc5e775",
   "metadata": {},
   "outputs": [
    {
     "data": {
      "text/plain": [
       "id              1\n",
       "popularity      5\n",
       "budget          5\n",
       "revenue         5\n",
       "runtime         0\n",
       "vote_count      5\n",
       "vote_average    0\n",
       "release_year    1\n",
       "budget_adj      5\n",
       "revenue_adj     5\n",
       "dtype: int64"
      ]
     },
     "execution_count": 11,
     "metadata": {},
     "output_type": "execute_result"
    }
   ],
   "source": [
    "((df7 > 0.5)).sum()-1"
   ]
  },
  {
   "cell_type": "markdown",
   "id": "bf109b35",
   "metadata": {},
   "source": [
    "#### Correlation using HeatMap"
   ]
  },
  {
   "cell_type": "code",
   "execution_count": 12,
   "id": "0d248abb",
   "metadata": {},
   "outputs": [
    {
     "data": {
      "image/png": "[encoded data removed]",
      "text/plain": [
       "<Figure size 432x288 with 2 Axes>"
      ]
     },
     "metadata": {
      "needs_background": "light"
     },
     "output_type": "display_data"
    }
   ],
   "source": [
    "corr=df.corr()\n",
    "sns.heatmap(corr,vmax=1)\n",
    "plt.show()"
   ]
  },
  {
   "cell_type": "markdown",
   "id": "7bc70f52",
   "metadata": {},
   "source": [
    "###### End of EDA "
   ]
  },
  {
   "cell_type": "markdown",
   "id": "8a7952cc",
   "metadata": {},
   "source": [
    "#### An attempt to clean the data "
   ]
  },
  {
   "cell_type": "code",
   "execution_count": 13,
   "id": "317973b5",
   "metadata": {},
   "outputs": [
    {
     "data": {
      "text/html": [
       "<div>\n",
       "<style scoped>\n",
       "    .dataframe tbody tr th:only-of-type {\n",
       "        vertical-align: middle;\n",
       "    }\n",
       "\n",
       "    .dataframe tbody tr th {\n",
       "        vertical-align: top;\n",
       "    }\n",
       "\n",
       "    .dataframe thead th {\n",
       "        text-align: right;\n",
       "    }\n",
       "</style>\n",
       "<table border=\"1\" class=\"dataframe\">\n",
       "  <thead>\n",
       "    <tr style=\"text-align: right;\">\n",
       "      <th></th>\n",
       "      <th>popularity</th>\n",
       "      <th>budget</th>\n",
       "      <th>revenue</th>\n",
       "      <th>original_title</th>\n",
       "      <th>cast</th>\n",
       "      <th>director</th>\n",
       "      <th>runtime</th>\n",
       "      <th>genres</th>\n",
       "      <th>release_date</th>\n",
       "      <th>release_year</th>\n",
       "    </tr>\n",
       "  </thead>\n",
       "  <tbody>\n",
       "    <tr>\n",
       "      <th>0</th>\n",
       "      <td>32.985763</td>\n",
       "      <td>150000000</td>\n",
       "      <td>1513528810</td>\n",
       "      <td>Jurassic World</td>\n",
       "      <td>Chris Pratt|Bryce Dallas Howard|Irrfan Khan|Vi...</td>\n",
       "      <td>Colin Trevorrow</td>\n",
       "      <td>124</td>\n",
       "      <td>Action|Adventure|Science Fiction|Thriller</td>\n",
       "      <td>6/9/2015</td>\n",
       "      <td>2015</td>\n",
       "    </tr>\n",
       "    <tr>\n",
       "      <th>1</th>\n",
       "      <td>28.419936</td>\n",
       "      <td>150000000</td>\n",
       "      <td>378436354</td>\n",
       "      <td>Mad Max: Fury Road</td>\n",
       "      <td>Tom Hardy|Charlize Theron|Hugh Keays-Byrne|Nic...</td>\n",
       "      <td>George Miller</td>\n",
       "      <td>120</td>\n",
       "      <td>Action|Adventure|Science Fiction|Thriller</td>\n",
       "      <td>5/13/2015</td>\n",
       "      <td>2015</td>\n",
       "    </tr>\n",
       "    <tr>\n",
       "      <th>2</th>\n",
       "      <td>13.112507</td>\n",
       "      <td>110000000</td>\n",
       "      <td>295238201</td>\n",
       "      <td>Insurgent</td>\n",
       "      <td>Shailene Woodley|Theo James|Kate Winslet|Ansel...</td>\n",
       "      <td>Robert Schwentke</td>\n",
       "      <td>119</td>\n",
       "      <td>Adventure|Science Fiction|Thriller</td>\n",
       "      <td>3/18/2015</td>\n",
       "      <td>2015</td>\n",
       "    </tr>\n",
       "    <tr>\n",
       "      <th>3</th>\n",
       "      <td>11.173104</td>\n",
       "      <td>200000000</td>\n",
       "      <td>2068178225</td>\n",
       "      <td>Star Wars: The Force Awakens</td>\n",
       "      <td>Harrison Ford|Mark Hamill|Carrie Fisher|Adam D...</td>\n",
       "      <td>J.J. Abrams</td>\n",
       "      <td>136</td>\n",
       "      <td>Action|Adventure|Science Fiction|Fantasy</td>\n",
       "      <td>12/15/2015</td>\n",
       "      <td>2015</td>\n",
       "    </tr>\n",
       "    <tr>\n",
       "      <th>4</th>\n",
       "      <td>9.335014</td>\n",
       "      <td>190000000</td>\n",
       "      <td>1506249360</td>\n",
       "      <td>Furious 7</td>\n",
       "      <td>Vin Diesel|Paul Walker|Jason Statham|Michelle ...</td>\n",
       "      <td>James Wan</td>\n",
       "      <td>137</td>\n",
       "      <td>Action|Crime|Thriller</td>\n",
       "      <td>4/1/2015</td>\n",
       "      <td>2015</td>\n",
       "    </tr>\n",
       "  </tbody>\n",
       "</table>\n",
       "</div>"
      ],
      "text/plain": [
       "   popularity     budget     revenue                original_title  \\\n",
       "0   32.985763  150000000  1513528810                Jurassic World   \n",
       "1   28.419936  150000000   378436354            Mad Max: Fury Road   \n",
       "2   13.112507  110000000   295238201                     Insurgent   \n",
       "3   11.173104  200000000  2068178225  Star Wars: The Force Awakens   \n",
       "4    9.335014  190000000  1506249360                     Furious 7   \n",
       "\n",
       "                                                cast          director  \\\n",
       "0  Chris Pratt|Bryce Dallas Howard|Irrfan Khan|Vi...   Colin Trevorrow   \n",
       "1  Tom Hardy|Charlize Theron|Hugh Keays-Byrne|Nic...     George Miller   \n",
       "2  Shailene Woodley|Theo James|Kate Winslet|Ansel...  Robert Schwentke   \n",
       "3  Harrison Ford|Mark Hamill|Carrie Fisher|Adam D...       J.J. Abrams   \n",
       "4  Vin Diesel|Paul Walker|Jason Statham|Michelle ...         James Wan   \n",
       "\n",
       "   runtime                                     genres release_date  \\\n",
       "0      124  Action|Adventure|Science Fiction|Thriller     6/9/2015   \n",
       "1      120  Action|Adventure|Science Fiction|Thriller    5/13/2015   \n",
       "2      119         Adventure|Science Fiction|Thriller    3/18/2015   \n",
       "3      136   Action|Adventure|Science Fiction|Fantasy   12/15/2015   \n",
       "4      137                      Action|Crime|Thriller     4/1/2015   \n",
       "\n",
       "   release_year  \n",
       "0          2015  \n",
       "1          2015  \n",
       "2          2015  \n",
       "3          2015  \n",
       "4          2015  "
      ]
     },
     "execution_count": 13,
     "metadata": {},
     "output_type": "execute_result"
    }
   ],
   "source": [
    "# Delete unnecessary columns\n",
    "df.drop(['id', 'imdb_id','budget_adj', 'revenue_adj', 'homepage', 'keywords', 'tagline', 'overview', 'production_companies', 'vote_count', 'vote_average'], axis=1, inplace=True)\n",
    "df.head()"
   ]
  },
  {
   "cell_type": "code",
   "execution_count": 14,
   "id": "122e18cc",
   "metadata": {},
   "outputs": [
    {
     "data": {
      "text/plain": [
       "popularity        float64\n",
       "budget              int64\n",
       "revenue             int64\n",
       "original_title     object\n",
       "cast               object\n",
       "director           object\n",
       "runtime             int64\n",
       "genres             object\n",
       "release_date       object\n",
       "release_year        int64\n",
       "dtype: object"
      ]
     },
     "execution_count": 14,
     "metadata": {},
     "output_type": "execute_result"
    }
   ],
   "source": [
    "df.dtypes"
   ]
  },
  {
   "cell_type": "markdown",
   "id": "f372dc5a",
   "metadata": {},
   "source": [
    "#### Dropping Duplicates"
   ]
  },
  {
   "cell_type": "code",
   "execution_count": 15,
   "id": "d412fd6a",
   "metadata": {},
   "outputs": [],
   "source": [
    "df.drop_duplicates(inplace=True)"
   ]
  },
  {
   "cell_type": "markdown",
   "id": "5c67e021",
   "metadata": {},
   "source": [
    "#### Filling Null values and dropping"
   ]
  },
  {
   "cell_type": "code",
   "execution_count": 16,
   "id": "7cd7e453",
   "metadata": {},
   "outputs": [],
   "source": [
    "df['budget'] = df['budget'].replace(0, np.NaN)\n",
    "df['revenue'] = df['revenue'].replace(0, np.NaN)\n",
    "\n",
    "df.dropna(inplace =True)"
   ]
  },
  {
   "cell_type": "markdown",
   "id": "6482a4a1",
   "metadata": {},
   "source": [
    "#### Checking for null & duplicate values"
   ]
  },
  {
   "cell_type": "code",
   "execution_count": 17,
   "id": "9e786d77",
   "metadata": {},
   "outputs": [
    {
     "name": "stdout",
     "output_type": "stream",
     "text": [
      "popularity        0\n",
      "budget            0\n",
      "revenue           0\n",
      "original_title    0\n",
      "cast              0\n",
      "director          0\n",
      "runtime           0\n",
      "genres            0\n",
      "release_date      0\n",
      "release_year      0\n",
      "dtype: int64\n",
      "0\n"
     ]
    }
   ],
   "source": [
    "print(df.isnull().sum())\n",
    "print(df.duplicated().sum())"
   ]
  },
  {
   "cell_type": "markdown",
   "id": "e35ea1e8",
   "metadata": {},
   "source": [
    "#### Checking for incorrect and incomplete values"
   ]
  },
  {
   "cell_type": "code",
   "execution_count": 18,
   "id": "a5a96820",
   "metadata": {},
   "outputs": [
    {
     "name": "stdout",
     "output_type": "stream",
     "text": [
      "Incorrect: 0\n",
      "Incomplete: 0\n"
     ]
    }
   ],
   "source": [
    "\n",
    "n=len(df.columns)\n",
    "sm=0\n",
    "for i in range (0, n):\n",
    "    k=df.columns[i]\n",
    "    sm+=(df[k]==0).sum()\n",
    "print(\"Incorrect:\",sm)\n",
    "\n",
    "\n",
    "df3=df.isnull().sum()\n",
    "sm=0\n",
    "for i in range (0,n):\n",
    "    sm+=(df3[i])\n",
    "print(\"Incomplete:\",sm)\n"
   ]
  },
  {
   "cell_type": "code",
   "execution_count": 19,
   "id": "f23087e0",
   "metadata": {},
   "outputs": [
    {
     "data": {
      "text/plain": [
       "(3849, 10)"
      ]
     },
     "execution_count": 19,
     "metadata": {},
     "output_type": "execute_result"
    }
   ],
   "source": [
    "df.shape"
   ]
  },
  {
   "cell_type": "markdown",
   "id": "83725598",
   "metadata": {},
   "source": [
    "##### End of data cleaning"
   ]
  },
  {
   "cell_type": "code",
   "execution_count": 20,
   "id": "716b3f10",
   "metadata": {},
   "outputs": [
    {
     "name": "stdout",
     "output_type": "stream",
     "text": [
      "FLOP MOVIES: \n",
      "57                                 Mortdecai\n",
      "59                                  Blackhat\n",
      "66                   In the Heart of the Sea\n",
      "73                                       Pan\n",
      "84                                   Tracers\n",
      "                        ...                 \n",
      "10675              The Ballad of Cable Hogue\n",
      "10683    The Private Life of Sherlock Holmes\n",
      "10716           The Greatest Story Ever Told\n",
      "10728                         The Wild Bunch\n",
      "10788                                The Wiz\n",
      "Name: original_title, Length: 1070, dtype: object\n",
      "There are  1070 Flop movies in dataset\n"
     ]
    }
   ],
   "source": [
    "print(\"FLOP MOVIES: \")\n",
    "y = df.loc[(df['budget']>df['revenue']) , 'original_title']\n",
    "print(y)\n",
    "print(\"There are \",len(y),\"Flop movies in dataset\")"
   ]
  },
  {
   "cell_type": "code",
   "execution_count": 21,
   "id": "f32969b7",
   "metadata": {},
   "outputs": [
    {
     "name": "stdout",
     "output_type": "stream",
     "text": [
      "HIT MOVIES: \n",
      "0                         Jurassic World\n",
      "1                     Mad Max: Fury Road\n",
      "2                              Insurgent\n",
      "3           Star Wars: The Force Awakens\n",
      "4                              Furious 7\n",
      "                      ...               \n",
      "10822    Who's Afraid of Virginia Woolf?\n",
      "10828                       Torn Curtain\n",
      "10829                          El Dorado\n",
      "10835                   The Sand Pebbles\n",
      "10848                   Fantastic Voyage\n",
      "Name: original_title, Length: 2776, dtype: object\n",
      "There are  2776 hit movies in dataset\n"
     ]
    }
   ],
   "source": [
    "#print('Hit movies')\n",
    "#for x in df['revenue']:\n",
    "   # for y in df['budget']:\n",
    "       # if (x>y):\n",
    "            #print(df['original_title'])\n",
    "print(\"HIT MOVIES: \")\n",
    "x = df.loc[(df['revenue']>df['budget']) , 'original_title']\n",
    "print(x)\n",
    "print(\"There are \",len(x),\"hit movies in dataset\")"
   ]
  },
  {
   "cell_type": "code",
   "execution_count": 22,
   "id": "c7bc810e",
   "metadata": {},
   "outputs": [
    {
     "name": "stdout",
     "output_type": "stream",
     "text": [
      "AVERAGE MOVIES: \n",
      "5198     Les Clefs de bagnole\n",
      "7250                    Narco\n",
      "10777                F.I.S.T.\n",
      "Name: original_title, dtype: object\n",
      "There are  3 Average movies in dataset\n"
     ]
    }
   ],
   "source": [
    "print(\"AVERAGE MOVIES: \")\n",
    "z = df.loc[(df['budget']==df['revenue']) , 'original_title']\n",
    "print(z)\n",
    "print(\"There are \",len(z),\"Average movies in dataset\")"
   ]
  },
  {
   "cell_type": "markdown",
   "id": "96b12a07",
   "metadata": {},
   "source": [
    "#### Correlation2.0"
   ]
  },
  {
   "cell_type": "code",
   "execution_count": 23,
   "id": "20da6aa3",
   "metadata": {},
   "outputs": [
    {
     "data": {
      "text/html": [
       "<div>\n",
       "<style scoped>\n",
       "    .dataframe tbody tr th:only-of-type {\n",
       "        vertical-align: middle;\n",
       "    }\n",
       "\n",
       "    .dataframe tbody tr th {\n",
       "        vertical-align: top;\n",
       "    }\n",
       "\n",
       "    .dataframe thead th {\n",
       "        text-align: right;\n",
       "    }\n",
       "</style>\n",
       "<table border=\"1\" class=\"dataframe\">\n",
       "  <thead>\n",
       "    <tr style=\"text-align: right;\">\n",
       "      <th></th>\n",
       "      <th>popularity</th>\n",
       "      <th>budget</th>\n",
       "      <th>revenue</th>\n",
       "      <th>runtime</th>\n",
       "      <th>release_year</th>\n",
       "    </tr>\n",
       "  </thead>\n",
       "  <tbody>\n",
       "    <tr>\n",
       "      <th>popularity</th>\n",
       "      <td>1.000000</td>\n",
       "      <td>0.446563</td>\n",
       "      <td>0.615348</td>\n",
       "      <td>0.215510</td>\n",
       "      <td>0.173599</td>\n",
       "    </tr>\n",
       "    <tr>\n",
       "      <th>budget</th>\n",
       "      <td>0.446563</td>\n",
       "      <td>1.000000</td>\n",
       "      <td>0.688403</td>\n",
       "      <td>0.261489</td>\n",
       "      <td>0.268464</td>\n",
       "    </tr>\n",
       "    <tr>\n",
       "      <th>revenue</th>\n",
       "      <td>0.615348</td>\n",
       "      <td>0.688403</td>\n",
       "      <td>1.000000</td>\n",
       "      <td>0.250728</td>\n",
       "      <td>0.139316</td>\n",
       "    </tr>\n",
       "    <tr>\n",
       "      <th>runtime</th>\n",
       "      <td>0.215510</td>\n",
       "      <td>0.261489</td>\n",
       "      <td>0.250728</td>\n",
       "      <td>1.000000</td>\n",
       "      <td>-0.112954</td>\n",
       "    </tr>\n",
       "    <tr>\n",
       "      <th>release_year</th>\n",
       "      <td>0.173599</td>\n",
       "      <td>0.268464</td>\n",
       "      <td>0.139316</td>\n",
       "      <td>-0.112954</td>\n",
       "      <td>1.000000</td>\n",
       "    </tr>\n",
       "  </tbody>\n",
       "</table>\n",
       "</div>"
      ],
      "text/plain": [
       "              popularity    budget   revenue   runtime  release_year\n",
       "popularity      1.000000  0.446563  0.615348  0.215510      0.173599\n",
       "budget          0.446563  1.000000  0.688403  0.261489      0.268464\n",
       "revenue         0.615348  0.688403  1.000000  0.250728      0.139316\n",
       "runtime         0.215510  0.261489  0.250728  1.000000     -0.112954\n",
       "release_year    0.173599  0.268464  0.139316 -0.112954      1.000000"
      ]
     },
     "execution_count": 23,
     "metadata": {},
     "output_type": "execute_result"
    }
   ],
   "source": [
    "df7=df.corr()\n",
    "df7.head()"
   ]
  },
  {
   "cell_type": "code",
   "execution_count": 24,
   "id": "5427a47c",
   "metadata": {},
   "outputs": [
    {
     "data": {
      "text/plain": [
       "popularity      1\n",
       "budget          1\n",
       "revenue         2\n",
       "runtime         0\n",
       "release_year    0\n",
       "dtype: int64"
      ]
     },
     "execution_count": 24,
     "metadata": {},
     "output_type": "execute_result"
    }
   ],
   "source": [
    "((df7 > 0.5)).sum()-1"
   ]
  },
  {
   "cell_type": "code",
   "execution_count": 25,
   "id": "b58593b4",
   "metadata": {},
   "outputs": [
    {
     "data": {
      "image/png": "[encoded data removed]",
      "text/plain": [
       "<Figure size 432x288 with 2 Axes>"
      ]
     },
     "metadata": {
      "needs_background": "light"
     },
     "output_type": "display_data"
    }
   ],
   "source": [
    "corr=df.corr()\n",
    "sns.heatmap(corr,vmax=1)\n",
    "plt.show()"
   ]
  },
  {
   "cell_type": "markdown",
   "id": "3a5b5a01",
   "metadata": {},
   "source": [
    "#### Let's visualise "
   ]
  },
  {
   "cell_type": "code",
   "execution_count": 26,
   "id": "92b03b27",
   "metadata": {},
   "outputs": [
    {
     "data": {
      "text/plain": [
       "<AxesSubplot:title={'center':'RELEASE YEAR vs BUDGET'}, xlabel='release_year', ylabel='budget'>"
      ]
     },
     "execution_count": 26,
     "metadata": {},
     "output_type": "execute_result"
    },
    {
     "data": {
      "image/png": "[encoded data removed]",
      "text/plain": [
       "<Figure size 2880x720 with 1 Axes>"
      ]
     },
     "metadata": {
      "needs_background": "light"
     },
     "output_type": "display_data"
    }
   ],
   "source": [
    "df.plot(x=\"release_year\", y=\"budget\",kind=\"scatter\", figsize=(40,10), title=\"RELEASE YEAR vs BUDGET\")"
   ]
  },
  {
   "cell_type": "code",
   "execution_count": 27,
   "id": "a07c0e4a",
   "metadata": {},
   "outputs": [
    {
     "data": {
      "text/plain": [
       "<AxesSubplot:title={'center':'REVENUE vs BUDGET'}, xlabel='budget', ylabel='revenue'>"
      ]
     },
     "execution_count": 27,
     "metadata": {},
     "output_type": "execute_result"
    },
    {
     "data": {
      "image/png": "[encoded data removed]",
      "text/plain": [
       "<Figure size 2880x720 with 1 Axes>"
      ]
     },
     "metadata": {
      "needs_background": "light"
     },
     "output_type": "display_data"
    }
   ],
   "source": [
    "df.plot(x=\"budget\", y=\"revenue\",kind=\"scatter\", figsize=(40,10), title=\"REVENUE vs BUDGET\")"
   ]
  },
  {
   "cell_type": "code",
   "execution_count": 28,
   "id": "731684db",
   "metadata": {},
   "outputs": [
    {
     "data": {
      "text/html": [
       "<div>\n",
       "<style scoped>\n",
       "    .dataframe tbody tr th:only-of-type {\n",
       "        vertical-align: middle;\n",
       "    }\n",
       "\n",
       "    .dataframe tbody tr th {\n",
       "        vertical-align: top;\n",
       "    }\n",
       "\n",
       "    .dataframe thead th {\n",
       "        text-align: right;\n",
       "    }\n",
       "</style>\n",
       "<table border=\"1\" class=\"dataframe\">\n",
       "  <thead>\n",
       "    <tr style=\"text-align: right;\">\n",
       "      <th></th>\n",
       "      <th>popularity</th>\n",
       "      <th>budget</th>\n",
       "      <th>revenue</th>\n",
       "      <th>original_title</th>\n",
       "      <th>cast</th>\n",
       "      <th>director</th>\n",
       "      <th>runtime</th>\n",
       "      <th>genres</th>\n",
       "      <th>release_date</th>\n",
       "      <th>release_year</th>\n",
       "    </tr>\n",
       "  </thead>\n",
       "  <tbody>\n",
       "    <tr>\n",
       "      <th>0</th>\n",
       "      <td>32.985763</td>\n",
       "      <td>150000000.0</td>\n",
       "      <td>1.513529e+09</td>\n",
       "      <td>Jurassic World</td>\n",
       "      <td>Chris Pratt|Bryce Dallas Howard|Irrfan Khan|Vi...</td>\n",
       "      <td>Colin Trevorrow</td>\n",
       "      <td>124</td>\n",
       "      <td>Action|Adventure|Science Fiction|Thriller</td>\n",
       "      <td>6/9/2015</td>\n",
       "      <td>2015</td>\n",
       "    </tr>\n",
       "    <tr>\n",
       "      <th>1</th>\n",
       "      <td>28.419936</td>\n",
       "      <td>150000000.0</td>\n",
       "      <td>3.784364e+08</td>\n",
       "      <td>Mad Max: Fury Road</td>\n",
       "      <td>Tom Hardy|Charlize Theron|Hugh Keays-Byrne|Nic...</td>\n",
       "      <td>George Miller</td>\n",
       "      <td>120</td>\n",
       "      <td>Action|Adventure|Science Fiction|Thriller</td>\n",
       "      <td>5/13/2015</td>\n",
       "      <td>2015</td>\n",
       "    </tr>\n",
       "    <tr>\n",
       "      <th>2</th>\n",
       "      <td>13.112507</td>\n",
       "      <td>110000000.0</td>\n",
       "      <td>2.952382e+08</td>\n",
       "      <td>Insurgent</td>\n",
       "      <td>Shailene Woodley|Theo James|Kate Winslet|Ansel...</td>\n",
       "      <td>Robert Schwentke</td>\n",
       "      <td>119</td>\n",
       "      <td>Adventure|Science Fiction|Thriller</td>\n",
       "      <td>3/18/2015</td>\n",
       "      <td>2015</td>\n",
       "    </tr>\n",
       "    <tr>\n",
       "      <th>3</th>\n",
       "      <td>11.173104</td>\n",
       "      <td>200000000.0</td>\n",
       "      <td>2.068178e+09</td>\n",
       "      <td>Star Wars: The Force Awakens</td>\n",
       "      <td>Harrison Ford|Mark Hamill|Carrie Fisher|Adam D...</td>\n",
       "      <td>J.J. Abrams</td>\n",
       "      <td>136</td>\n",
       "      <td>Action|Adventure|Science Fiction|Fantasy</td>\n",
       "      <td>12/15/2015</td>\n",
       "      <td>2015</td>\n",
       "    </tr>\n",
       "    <tr>\n",
       "      <th>4</th>\n",
       "      <td>9.335014</td>\n",
       "      <td>190000000.0</td>\n",
       "      <td>1.506249e+09</td>\n",
       "      <td>Furious 7</td>\n",
       "      <td>Vin Diesel|Paul Walker|Jason Statham|Michelle ...</td>\n",
       "      <td>James Wan</td>\n",
       "      <td>137</td>\n",
       "      <td>Action|Crime|Thriller</td>\n",
       "      <td>4/1/2015</td>\n",
       "      <td>2015</td>\n",
       "    </tr>\n",
       "  </tbody>\n",
       "</table>\n",
       "</div>"
      ],
      "text/plain": [
       "   popularity       budget       revenue                original_title  \\\n",
       "0   32.985763  150000000.0  1.513529e+09                Jurassic World   \n",
       "1   28.419936  150000000.0  3.784364e+08            Mad Max: Fury Road   \n",
       "2   13.112507  110000000.0  2.952382e+08                     Insurgent   \n",
       "3   11.173104  200000000.0  2.068178e+09  Star Wars: The Force Awakens   \n",
       "4    9.335014  190000000.0  1.506249e+09                     Furious 7   \n",
       "\n",
       "                                                cast          director  \\\n",
       "0  Chris Pratt|Bryce Dallas Howard|Irrfan Khan|Vi...   Colin Trevorrow   \n",
       "1  Tom Hardy|Charlize Theron|Hugh Keays-Byrne|Nic...     George Miller   \n",
       "2  Shailene Woodley|Theo James|Kate Winslet|Ansel...  Robert Schwentke   \n",
       "3  Harrison Ford|Mark Hamill|Carrie Fisher|Adam D...       J.J. Abrams   \n",
       "4  Vin Diesel|Paul Walker|Jason Statham|Michelle ...         James Wan   \n",
       "\n",
       "   runtime                                     genres release_date  \\\n",
       "0      124  Action|Adventure|Science Fiction|Thriller     6/9/2015   \n",
       "1      120  Action|Adventure|Science Fiction|Thriller    5/13/2015   \n",
       "2      119         Adventure|Science Fiction|Thriller    3/18/2015   \n",
       "3      136   Action|Adventure|Science Fiction|Fantasy   12/15/2015   \n",
       "4      137                      Action|Crime|Thriller     4/1/2015   \n",
       "\n",
       "   release_year  \n",
       "0          2015  \n",
       "1          2015  \n",
       "2          2015  \n",
       "3          2015  \n",
       "4          2015  "
      ]
     },
     "execution_count": 28,
     "metadata": {},
     "output_type": "execute_result"
    }
   ],
   "source": [
    "dfneww=df.head(50)\n",
    "dfneww.head()"
   ]
  },
  {
   "cell_type": "markdown",
   "id": "c7b5eff1",
   "metadata": {},
   "source": [
    "#### Visualisation 2.0 (with selected values @top50)"
   ]
  },
  {
   "cell_type": "code",
   "execution_count": 29,
   "id": "4b63cf2c",
   "metadata": {},
   "outputs": [
    {
     "data": {
      "text/plain": [
       "<AxesSubplot:title={'center':'POPULARITY vs BUDGET'}, xlabel='popularity'>"
      ]
     },
     "execution_count": 29,
     "metadata": {},
     "output_type": "execute_result"
    },
    {
     "data": {
      "image/png": "[encoded data removed]",
      "text/plain": [
       "<Figure size 2880x720 with 1 Axes>"
      ]
     },
     "metadata": {
      "needs_background": "light"
     },
     "output_type": "display_data"
    }
   ],
   "source": [
    "dfneww.plot(x=\"popularity\", y=\"budget\",kind=\"bar\", figsize=(40,10), title=\"POPULARITY vs BUDGET\")"
   ]
  },
  {
   "cell_type": "code",
   "execution_count": 30,
   "id": "4eb710e3",
   "metadata": {},
   "outputs": [
    {
     "data": {
      "text/plain": [
       "<AxesSubplot:title={'center':'RUNTIME vs BUDGET'}, xlabel='budget'>"
      ]
     },
     "execution_count": 30,
     "metadata": {},
     "output_type": "execute_result"
    },
    {
     "data": {
      "image/png": "[encoded data removed]",
      "text/plain": [
       "<Figure size 2880x720 with 1 Axes>"
      ]
     },
     "metadata": {
      "needs_background": "light"
     },
     "output_type": "display_data"
    }
   ],
   "source": [
    "dfneww.plot(x=\"budget\", y=\"runtime\",kind=\"bar\", figsize=(40,10), title=\"RUNTIME vs BUDGET\")"
   ]
  },
  {
   "cell_type": "markdown",
   "id": "e3730b5a",
   "metadata": {},
   "source": [
    "### Let's analyse "
   ]
  },
  {
   "cell_type": "markdown",
   "id": "b8447ee5",
   "metadata": {},
   "source": [
    "### > Which movies are the most profitable to the market?"
   ]
  },
  {
   "cell_type": "code",
   "execution_count": 31,
   "id": "8fb0c50d",
   "metadata": {},
   "outputs": [
    {
     "data": {
      "text/html": [
       "<div>\n",
       "<style scoped>\n",
       "    .dataframe tbody tr th:only-of-type {\n",
       "        vertical-align: middle;\n",
       "    }\n",
       "\n",
       "    .dataframe tbody tr th {\n",
       "        vertical-align: top;\n",
       "    }\n",
       "\n",
       "    .dataframe thead th {\n",
       "        text-align: right;\n",
       "    }\n",
       "</style>\n",
       "<table border=\"1\" class=\"dataframe\">\n",
       "  <thead>\n",
       "    <tr style=\"text-align: right;\">\n",
       "      <th></th>\n",
       "      <th>popularity</th>\n",
       "      <th>budget</th>\n",
       "      <th>revenue</th>\n",
       "      <th>original_title</th>\n",
       "      <th>cast</th>\n",
       "      <th>director</th>\n",
       "      <th>runtime</th>\n",
       "      <th>genres</th>\n",
       "      <th>release_date</th>\n",
       "      <th>release_year</th>\n",
       "      <th>profit</th>\n",
       "    </tr>\n",
       "  </thead>\n",
       "  <tbody>\n",
       "    <tr>\n",
       "      <th>0</th>\n",
       "      <td>32.985763</td>\n",
       "      <td>150000000.0</td>\n",
       "      <td>1513528810</td>\n",
       "      <td>Jurassic World</td>\n",
       "      <td>Chris Pratt|Bryce Dallas Howard|Irrfan Khan|Vi...</td>\n",
       "      <td>Colin Trevorrow</td>\n",
       "      <td>124</td>\n",
       "      <td>Action|Adventure|Science Fiction|Thriller</td>\n",
       "      <td>6/9/2015</td>\n",
       "      <td>2015</td>\n",
       "      <td>1.363529e+09</td>\n",
       "    </tr>\n",
       "    <tr>\n",
       "      <th>1</th>\n",
       "      <td>28.419936</td>\n",
       "      <td>150000000.0</td>\n",
       "      <td>378436354</td>\n",
       "      <td>Mad Max: Fury Road</td>\n",
       "      <td>Tom Hardy|Charlize Theron|Hugh Keays-Byrne|Nic...</td>\n",
       "      <td>George Miller</td>\n",
       "      <td>120</td>\n",
       "      <td>Action|Adventure|Science Fiction|Thriller</td>\n",
       "      <td>5/13/2015</td>\n",
       "      <td>2015</td>\n",
       "      <td>2.284364e+08</td>\n",
       "    </tr>\n",
       "    <tr>\n",
       "      <th>2</th>\n",
       "      <td>13.112507</td>\n",
       "      <td>110000000.0</td>\n",
       "      <td>295238201</td>\n",
       "      <td>Insurgent</td>\n",
       "      <td>Shailene Woodley|Theo James|Kate Winslet|Ansel...</td>\n",
       "      <td>Robert Schwentke</td>\n",
       "      <td>119</td>\n",
       "      <td>Adventure|Science Fiction|Thriller</td>\n",
       "      <td>3/18/2015</td>\n",
       "      <td>2015</td>\n",
       "      <td>1.852382e+08</td>\n",
       "    </tr>\n",
       "    <tr>\n",
       "      <th>3</th>\n",
       "      <td>11.173104</td>\n",
       "      <td>200000000.0</td>\n",
       "      <td>2068178225</td>\n",
       "      <td>Star Wars: The Force Awakens</td>\n",
       "      <td>Harrison Ford|Mark Hamill|Carrie Fisher|Adam D...</td>\n",
       "      <td>J.J. Abrams</td>\n",
       "      <td>136</td>\n",
       "      <td>Action|Adventure|Science Fiction|Fantasy</td>\n",
       "      <td>12/15/2015</td>\n",
       "      <td>2015</td>\n",
       "      <td>1.868178e+09</td>\n",
       "    </tr>\n",
       "  </tbody>\n",
       "</table>\n",
       "</div>"
      ],
      "text/plain": [
       "   popularity       budget     revenue                original_title  \\\n",
       "0   32.985763  150000000.0  1513528810                Jurassic World   \n",
       "1   28.419936  150000000.0   378436354            Mad Max: Fury Road   \n",
       "2   13.112507  110000000.0   295238201                     Insurgent   \n",
       "3   11.173104  200000000.0  2068178225  Star Wars: The Force Awakens   \n",
       "\n",
       "                                                cast          director  \\\n",
       "0  Chris Pratt|Bryce Dallas Howard|Irrfan Khan|Vi...   Colin Trevorrow   \n",
       "1  Tom Hardy|Charlize Theron|Hugh Keays-Byrne|Nic...     George Miller   \n",
       "2  Shailene Woodley|Theo James|Kate Winslet|Ansel...  Robert Schwentke   \n",
       "3  Harrison Ford|Mark Hamill|Carrie Fisher|Adam D...       J.J. Abrams   \n",
       "\n",
       "   runtime                                     genres release_date  \\\n",
       "0      124  Action|Adventure|Science Fiction|Thriller     6/9/2015   \n",
       "1      120  Action|Adventure|Science Fiction|Thriller    5/13/2015   \n",
       "2      119         Adventure|Science Fiction|Thriller    3/18/2015   \n",
       "3      136   Action|Adventure|Science Fiction|Fantasy   12/15/2015   \n",
       "\n",
       "   release_year        profit  \n",
       "0          2015  1.363529e+09  \n",
       "1          2015  2.284364e+08  \n",
       "2          2015  1.852382e+08  \n",
       "3          2015  1.868178e+09  "
      ]
     },
     "execution_count": 31,
     "metadata": {},
     "output_type": "execute_result"
    }
   ],
   "source": [
    "df['profit'] = df['revenue'] - df['budget']\n",
    "df['revenue'] = df['revenue'].astype(int)\n",
    "df.head(4)"
   ]
  },
  {
   "cell_type": "code",
   "execution_count": 32,
   "id": "ee947c01",
   "metadata": {},
   "outputs": [
    {
     "data": {
      "text/html": [
       "<div>\n",
       "<style scoped>\n",
       "    .dataframe tbody tr th:only-of-type {\n",
       "        vertical-align: middle;\n",
       "    }\n",
       "\n",
       "    .dataframe tbody tr th {\n",
       "        vertical-align: top;\n",
       "    }\n",
       "\n",
       "    .dataframe thead th {\n",
       "        text-align: right;\n",
       "    }\n",
       "</style>\n",
       "<table border=\"1\" class=\"dataframe\">\n",
       "  <thead>\n",
       "    <tr style=\"text-align: right;\">\n",
       "      <th></th>\n",
       "      <th>popularity</th>\n",
       "      <th>budget</th>\n",
       "      <th>revenue</th>\n",
       "      <th>original_title</th>\n",
       "      <th>cast</th>\n",
       "      <th>director</th>\n",
       "      <th>runtime</th>\n",
       "      <th>genres</th>\n",
       "      <th>release_date</th>\n",
       "      <th>release_year</th>\n",
       "      <th>profit</th>\n",
       "    </tr>\n",
       "  </thead>\n",
       "  <tbody>\n",
       "    <tr>\n",
       "      <th>1386</th>\n",
       "      <td>9.432768</td>\n",
       "      <td>237000000.0</td>\n",
       "      <td>-2147483648</td>\n",
       "      <td>Avatar</td>\n",
       "      <td>Sam Worthington|Zoe Saldana|Sigourney Weaver|S...</td>\n",
       "      <td>James Cameron</td>\n",
       "      <td>162</td>\n",
       "      <td>Action|Adventure|Fantasy|Science Fiction</td>\n",
       "      <td>12/10/2009</td>\n",
       "      <td>2009</td>\n",
       "      <td>2.544506e+09</td>\n",
       "    </tr>\n",
       "    <tr>\n",
       "      <th>3</th>\n",
       "      <td>11.173104</td>\n",
       "      <td>200000000.0</td>\n",
       "      <td>2068178225</td>\n",
       "      <td>Star Wars: The Force Awakens</td>\n",
       "      <td>Harrison Ford|Mark Hamill|Carrie Fisher|Adam D...</td>\n",
       "      <td>J.J. Abrams</td>\n",
       "      <td>136</td>\n",
       "      <td>Action|Adventure|Science Fiction|Fantasy</td>\n",
       "      <td>12/15/2015</td>\n",
       "      <td>2015</td>\n",
       "      <td>1.868178e+09</td>\n",
       "    </tr>\n",
       "    <tr>\n",
       "      <th>5231</th>\n",
       "      <td>4.355219</td>\n",
       "      <td>200000000.0</td>\n",
       "      <td>1845034188</td>\n",
       "      <td>Titanic</td>\n",
       "      <td>Kate Winslet|Leonardo DiCaprio|Frances Fisher|...</td>\n",
       "      <td>James Cameron</td>\n",
       "      <td>194</td>\n",
       "      <td>Drama|Romance|Thriller</td>\n",
       "      <td>11/18/1997</td>\n",
       "      <td>1997</td>\n",
       "      <td>1.645034e+09</td>\n",
       "    </tr>\n",
       "    <tr>\n",
       "      <th>0</th>\n",
       "      <td>32.985763</td>\n",
       "      <td>150000000.0</td>\n",
       "      <td>1513528810</td>\n",
       "      <td>Jurassic World</td>\n",
       "      <td>Chris Pratt|Bryce Dallas Howard|Irrfan Khan|Vi...</td>\n",
       "      <td>Colin Trevorrow</td>\n",
       "      <td>124</td>\n",
       "      <td>Action|Adventure|Science Fiction|Thriller</td>\n",
       "      <td>6/9/2015</td>\n",
       "      <td>2015</td>\n",
       "      <td>1.363529e+09</td>\n",
       "    </tr>\n",
       "    <tr>\n",
       "      <th>4</th>\n",
       "      <td>9.335014</td>\n",
       "      <td>190000000.0</td>\n",
       "      <td>1506249360</td>\n",
       "      <td>Furious 7</td>\n",
       "      <td>Vin Diesel|Paul Walker|Jason Statham|Michelle ...</td>\n",
       "      <td>James Wan</td>\n",
       "      <td>137</td>\n",
       "      <td>Action|Crime|Thriller</td>\n",
       "      <td>4/1/2015</td>\n",
       "      <td>2015</td>\n",
       "      <td>1.316249e+09</td>\n",
       "    </tr>\n",
       "    <tr>\n",
       "      <th>4361</th>\n",
       "      <td>7.637767</td>\n",
       "      <td>220000000.0</td>\n",
       "      <td>1519557910</td>\n",
       "      <td>The Avengers</td>\n",
       "      <td>Robert Downey Jr.|Chris Evans|Mark Ruffalo|Chr...</td>\n",
       "      <td>Joss Whedon</td>\n",
       "      <td>143</td>\n",
       "      <td>Science Fiction|Action|Adventure</td>\n",
       "      <td>4/25/2012</td>\n",
       "      <td>2012</td>\n",
       "      <td>1.299558e+09</td>\n",
       "    </tr>\n",
       "    <tr>\n",
       "      <th>3374</th>\n",
       "      <td>5.711315</td>\n",
       "      <td>125000000.0</td>\n",
       "      <td>1327817822</td>\n",
       "      <td>Harry Potter and the Deathly Hallows: Part 2</td>\n",
       "      <td>Daniel Radcliffe|Rupert Grint|Emma Watson|Alan...</td>\n",
       "      <td>David Yates</td>\n",
       "      <td>130</td>\n",
       "      <td>Adventure|Family|Fantasy</td>\n",
       "      <td>7/7/2011</td>\n",
       "      <td>2011</td>\n",
       "      <td>1.202818e+09</td>\n",
       "    </tr>\n",
       "    <tr>\n",
       "      <th>14</th>\n",
       "      <td>5.944927</td>\n",
       "      <td>280000000.0</td>\n",
       "      <td>1405035767</td>\n",
       "      <td>Avengers: Age of Ultron</td>\n",
       "      <td>Robert Downey Jr.|Chris Hemsworth|Mark Ruffalo...</td>\n",
       "      <td>Joss Whedon</td>\n",
       "      <td>141</td>\n",
       "      <td>Action|Adventure|Science Fiction</td>\n",
       "      <td>4/22/2015</td>\n",
       "      <td>2015</td>\n",
       "      <td>1.125036e+09</td>\n",
       "    </tr>\n",
       "    <tr>\n",
       "      <th>5422</th>\n",
       "      <td>6.112766</td>\n",
       "      <td>150000000.0</td>\n",
       "      <td>1274219009</td>\n",
       "      <td>Frozen</td>\n",
       "      <td>Kristen Bell|Idina Menzel|Jonathan Groff|Josh ...</td>\n",
       "      <td>Chris Buck|Jennifer Lee</td>\n",
       "      <td>102</td>\n",
       "      <td>Animation|Adventure|Family</td>\n",
       "      <td>11/27/2013</td>\n",
       "      <td>2013</td>\n",
       "      <td>1.124219e+09</td>\n",
       "    </tr>\n",
       "    <tr>\n",
       "      <th>8094</th>\n",
       "      <td>1.136610</td>\n",
       "      <td>22000000.0</td>\n",
       "      <td>1106279658</td>\n",
       "      <td>The Net</td>\n",
       "      <td>Sandra Bullock|Jeremy Northam|Dennis Miller|We...</td>\n",
       "      <td>Irwin Winkler</td>\n",
       "      <td>114</td>\n",
       "      <td>Crime|Drama|Mystery|Thriller|Action</td>\n",
       "      <td>7/28/1995</td>\n",
       "      <td>1995</td>\n",
       "      <td>1.084280e+09</td>\n",
       "    </tr>\n",
       "  </tbody>\n",
       "</table>\n",
       "</div>"
      ],
      "text/plain": [
       "      popularity       budget     revenue  \\\n",
       "1386    9.432768  237000000.0 -2147483648   \n",
       "3      11.173104  200000000.0  2068178225   \n",
       "5231    4.355219  200000000.0  1845034188   \n",
       "0      32.985763  150000000.0  1513528810   \n",
       "4       9.335014  190000000.0  1506249360   \n",
       "4361    7.637767  220000000.0  1519557910   \n",
       "3374    5.711315  125000000.0  1327817822   \n",
       "14      5.944927  280000000.0  1405035767   \n",
       "5422    6.112766  150000000.0  1274219009   \n",
       "8094    1.136610   22000000.0  1106279658   \n",
       "\n",
       "                                    original_title  \\\n",
       "1386                                        Avatar   \n",
       "3                     Star Wars: The Force Awakens   \n",
       "5231                                       Titanic   \n",
       "0                                   Jurassic World   \n",
       "4                                        Furious 7   \n",
       "4361                                  The Avengers   \n",
       "3374  Harry Potter and the Deathly Hallows: Part 2   \n",
       "14                         Avengers: Age of Ultron   \n",
       "5422                                        Frozen   \n",
       "8094                                       The Net   \n",
       "\n",
       "                                                   cast  \\\n",
       "1386  Sam Worthington|Zoe Saldana|Sigourney Weaver|S...   \n",
       "3     Harrison Ford|Mark Hamill|Carrie Fisher|Adam D...   \n",
       "5231  Kate Winslet|Leonardo DiCaprio|Frances Fisher|...   \n",
       "0     Chris Pratt|Bryce Dallas Howard|Irrfan Khan|Vi...   \n",
       "4     Vin Diesel|Paul Walker|Jason Statham|Michelle ...   \n",
       "4361  Robert Downey Jr.|Chris Evans|Mark Ruffalo|Chr...   \n",
       "3374  Daniel Radcliffe|Rupert Grint|Emma Watson|Alan...   \n",
       "14    Robert Downey Jr.|Chris Hemsworth|Mark Ruffalo...   \n",
       "5422  Kristen Bell|Idina Menzel|Jonathan Groff|Josh ...   \n",
       "8094  Sandra Bullock|Jeremy Northam|Dennis Miller|We...   \n",
       "\n",
       "                     director  runtime  \\\n",
       "1386            James Cameron      162   \n",
       "3                 J.J. Abrams      136   \n",
       "5231            James Cameron      194   \n",
       "0             Colin Trevorrow      124   \n",
       "4                   James Wan      137   \n",
       "4361              Joss Whedon      143   \n",
       "3374              David Yates      130   \n",
       "14                Joss Whedon      141   \n",
       "5422  Chris Buck|Jennifer Lee      102   \n",
       "8094            Irwin Winkler      114   \n",
       "\n",
       "                                         genres release_date  release_year  \\\n",
       "1386   Action|Adventure|Fantasy|Science Fiction   12/10/2009          2009   \n",
       "3      Action|Adventure|Science Fiction|Fantasy   12/15/2015          2015   \n",
       "5231                     Drama|Romance|Thriller   11/18/1997          1997   \n",
       "0     Action|Adventure|Science Fiction|Thriller     6/9/2015          2015   \n",
       "4                         Action|Crime|Thriller     4/1/2015          2015   \n",
       "4361           Science Fiction|Action|Adventure    4/25/2012          2012   \n",
       "3374                   Adventure|Family|Fantasy     7/7/2011          2011   \n",
       "14             Action|Adventure|Science Fiction    4/22/2015          2015   \n",
       "5422                 Animation|Adventure|Family   11/27/2013          2013   \n",
       "8094        Crime|Drama|Mystery|Thriller|Action    7/28/1995          1995   \n",
       "\n",
       "            profit  \n",
       "1386  2.544506e+09  \n",
       "3     1.868178e+09  \n",
       "5231  1.645034e+09  \n",
       "0     1.363529e+09  \n",
       "4     1.316249e+09  \n",
       "4361  1.299558e+09  \n",
       "3374  1.202818e+09  \n",
       "14    1.125036e+09  \n",
       "5422  1.124219e+09  \n",
       "8094  1.084280e+09  "
      ]
     },
     "execution_count": 32,
     "metadata": {},
     "output_type": "execute_result"
    }
   ],
   "source": [
    "\n",
    "df7=df.sort_values(['profit'], ascending = False).head(10)\n",
    "dfk=df.sort_values(['profit'], ascending = False)\n",
    "df.sort_values(['profit'], ascending = False).head(10)"
   ]
  },
  {
   "cell_type": "code",
   "execution_count": 33,
   "id": "dda77f33",
   "metadata": {},
   "outputs": [
    {
     "data": {
      "text/html": [
       "<div>\n",
       "<style scoped>\n",
       "    .dataframe tbody tr th:only-of-type {\n",
       "        vertical-align: middle;\n",
       "    }\n",
       "\n",
       "    .dataframe tbody tr th {\n",
       "        vertical-align: top;\n",
       "    }\n",
       "\n",
       "    .dataframe thead th {\n",
       "        text-align: right;\n",
       "    }\n",
       "</style>\n",
       "<table border=\"1\" class=\"dataframe\">\n",
       "  <thead>\n",
       "    <tr style=\"text-align: right;\">\n",
       "      <th></th>\n",
       "      <th>popularity</th>\n",
       "      <th>budget</th>\n",
       "      <th>revenue</th>\n",
       "      <th>original_title</th>\n",
       "      <th>cast</th>\n",
       "      <th>director</th>\n",
       "      <th>runtime</th>\n",
       "      <th>genres</th>\n",
       "      <th>release_date</th>\n",
       "      <th>release_year</th>\n",
       "      <th>profit</th>\n",
       "    </tr>\n",
       "  </thead>\n",
       "  <tbody>\n",
       "    <tr>\n",
       "      <th>4970</th>\n",
       "      <td>1.653031</td>\n",
       "      <td>100000000.0</td>\n",
       "      <td>250</td>\n",
       "      <td>Brother Bear</td>\n",
       "      <td>Joaquin Phoenix|Jeremy Suarez|Rick Moranis|Joa...</td>\n",
       "      <td>Aaron Blaise|Robert Walker</td>\n",
       "      <td>85</td>\n",
       "      <td>Animation|Adventure|Family|Fantasy</td>\n",
       "      <td>10/20/2003</td>\n",
       "      <td>2003</td>\n",
       "      <td>-99999750.0</td>\n",
       "    </tr>\n",
       "    <tr>\n",
       "      <th>3484</th>\n",
       "      <td>0.921653</td>\n",
       "      <td>150000000.0</td>\n",
       "      <td>38992758</td>\n",
       "      <td>Mars Needs Moms</td>\n",
       "      <td>Seth Green|Joan Cusack|Dan Fogler|Breckin Meye...</td>\n",
       "      <td>Simon Wells</td>\n",
       "      <td>88</td>\n",
       "      <td>Adventure|Animation|Family</td>\n",
       "      <td>3/9/2011</td>\n",
       "      <td>2011</td>\n",
       "      <td>-111007242.0</td>\n",
       "    </tr>\n",
       "    <tr>\n",
       "      <th>7031</th>\n",
       "      <td>0.948560</td>\n",
       "      <td>145000000.0</td>\n",
       "      <td>25819961</td>\n",
       "      <td>The Alamo</td>\n",
       "      <td>Dennis Quaid|Billy Bob Thornton|Jason Patric|P...</td>\n",
       "      <td>John Lee Hancock</td>\n",
       "      <td>137</td>\n",
       "      <td>Western|History|War</td>\n",
       "      <td>4/7/2004</td>\n",
       "      <td>2004</td>\n",
       "      <td>-119180039.0</td>\n",
       "    </tr>\n",
       "    <tr>\n",
       "      <th>5508</th>\n",
       "      <td>1.214510</td>\n",
       "      <td>255000000.0</td>\n",
       "      <td>89289910</td>\n",
       "      <td>The Lone Ranger</td>\n",
       "      <td>Johnny Depp|Armie Hammer|William Fichtner|Hele...</td>\n",
       "      <td>Gore Verbinski</td>\n",
       "      <td>149</td>\n",
       "      <td>Action|Adventure|Western</td>\n",
       "      <td>7/3/2013</td>\n",
       "      <td>2013</td>\n",
       "      <td>-165710090.0</td>\n",
       "    </tr>\n",
       "    <tr>\n",
       "      <th>2244</th>\n",
       "      <td>0.250540</td>\n",
       "      <td>425000000.0</td>\n",
       "      <td>11087569</td>\n",
       "      <td>The Warrior's Way</td>\n",
       "      <td>Kate Bosworth|Jang Dong-gun|Geoffrey Rush|Dann...</td>\n",
       "      <td>Sngmoo Lee</td>\n",
       "      <td>100</td>\n",
       "      <td>Adventure|Fantasy|Action|Western|Thriller</td>\n",
       "      <td>12/2/2010</td>\n",
       "      <td>2010</td>\n",
       "      <td>-413912431.0</td>\n",
       "    </tr>\n",
       "  </tbody>\n",
       "</table>\n",
       "</div>"
      ],
      "text/plain": [
       "      popularity       budget   revenue     original_title  \\\n",
       "4970    1.653031  100000000.0       250       Brother Bear   \n",
       "3484    0.921653  150000000.0  38992758    Mars Needs Moms   \n",
       "7031    0.948560  145000000.0  25819961          The Alamo   \n",
       "5508    1.214510  255000000.0  89289910    The Lone Ranger   \n",
       "2244    0.250540  425000000.0  11087569  The Warrior's Way   \n",
       "\n",
       "                                                   cast  \\\n",
       "4970  Joaquin Phoenix|Jeremy Suarez|Rick Moranis|Joa...   \n",
       "3484  Seth Green|Joan Cusack|Dan Fogler|Breckin Meye...   \n",
       "7031  Dennis Quaid|Billy Bob Thornton|Jason Patric|P...   \n",
       "5508  Johnny Depp|Armie Hammer|William Fichtner|Hele...   \n",
       "2244  Kate Bosworth|Jang Dong-gun|Geoffrey Rush|Dann...   \n",
       "\n",
       "                        director  runtime  \\\n",
       "4970  Aaron Blaise|Robert Walker       85   \n",
       "3484                 Simon Wells       88   \n",
       "7031            John Lee Hancock      137   \n",
       "5508              Gore Verbinski      149   \n",
       "2244                  Sngmoo Lee      100   \n",
       "\n",
       "                                         genres release_date  release_year  \\\n",
       "4970         Animation|Adventure|Family|Fantasy   10/20/2003          2003   \n",
       "3484                 Adventure|Animation|Family     3/9/2011          2011   \n",
       "7031                        Western|History|War     4/7/2004          2004   \n",
       "5508                   Action|Adventure|Western     7/3/2013          2013   \n",
       "2244  Adventure|Fantasy|Action|Western|Thriller    12/2/2010          2010   \n",
       "\n",
       "           profit  \n",
       "4970  -99999750.0  \n",
       "3484 -111007242.0  \n",
       "7031 -119180039.0  \n",
       "5508 -165710090.0  \n",
       "2244 -413912431.0  "
      ]
     },
     "execution_count": 33,
     "metadata": {},
     "output_type": "execute_result"
    }
   ],
   "source": [
    "dfk.tail()"
   ]
  },
  {
   "cell_type": "markdown",
   "id": "dc586549",
   "metadata": {},
   "source": [
    "#### Above are top 10 movies with the most earned profit. Clearly these titles are well knowed. Avatar is at tops 1, which profit exceded way more than the following movies."
   ]
  },
  {
   "cell_type": "markdown",
   "id": "20cb57a2",
   "metadata": {},
   "source": [
    "### > Which movies have the most and least profit, budget and runtime?"
   ]
  },
  {
   "cell_type": "code",
   "execution_count": 34,
   "id": "1159e6e7",
   "metadata": {},
   "outputs": [
    {
     "data": {
      "text/html": [
       "<div>\n",
       "<style scoped>\n",
       "    .dataframe tbody tr th:only-of-type {\n",
       "        vertical-align: middle;\n",
       "    }\n",
       "\n",
       "    .dataframe tbody tr th {\n",
       "        vertical-align: top;\n",
       "    }\n",
       "\n",
       "    .dataframe thead th {\n",
       "        text-align: right;\n",
       "    }\n",
       "</style>\n",
       "<table border=\"1\" class=\"dataframe\">\n",
       "  <thead>\n",
       "    <tr style=\"text-align: right;\">\n",
       "      <th></th>\n",
       "      <th>1386</th>\n",
       "      <th>2244</th>\n",
       "    </tr>\n",
       "  </thead>\n",
       "  <tbody>\n",
       "    <tr>\n",
       "      <th>popularity</th>\n",
       "      <td>9.432768</td>\n",
       "      <td>0.25054</td>\n",
       "    </tr>\n",
       "    <tr>\n",
       "      <th>budget</th>\n",
       "      <td>237000000.0</td>\n",
       "      <td>425000000.0</td>\n",
       "    </tr>\n",
       "    <tr>\n",
       "      <th>revenue</th>\n",
       "      <td>-2147483648</td>\n",
       "      <td>11087569</td>\n",
       "    </tr>\n",
       "    <tr>\n",
       "      <th>original_title</th>\n",
       "      <td>Avatar</td>\n",
       "      <td>The Warrior's Way</td>\n",
       "    </tr>\n",
       "    <tr>\n",
       "      <th>cast</th>\n",
       "      <td>Sam Worthington|Zoe Saldana|Sigourney Weaver|S...</td>\n",
       "      <td>Kate Bosworth|Jang Dong-gun|Geoffrey Rush|Dann...</td>\n",
       "    </tr>\n",
       "    <tr>\n",
       "      <th>director</th>\n",
       "      <td>James Cameron</td>\n",
       "      <td>Sngmoo Lee</td>\n",
       "    </tr>\n",
       "    <tr>\n",
       "      <th>runtime</th>\n",
       "      <td>162</td>\n",
       "      <td>100</td>\n",
       "    </tr>\n",
       "    <tr>\n",
       "      <th>genres</th>\n",
       "      <td>Action|Adventure|Fantasy|Science Fiction</td>\n",
       "      <td>Adventure|Fantasy|Action|Western|Thriller</td>\n",
       "    </tr>\n",
       "    <tr>\n",
       "      <th>release_date</th>\n",
       "      <td>12/10/2009</td>\n",
       "      <td>12/2/2010</td>\n",
       "    </tr>\n",
       "    <tr>\n",
       "      <th>release_year</th>\n",
       "      <td>2009</td>\n",
       "      <td>2010</td>\n",
       "    </tr>\n",
       "    <tr>\n",
       "      <th>profit</th>\n",
       "      <td>2544505847.0</td>\n",
       "      <td>-413912431.0</td>\n",
       "    </tr>\n",
       "  </tbody>\n",
       "</table>\n",
       "</div>"
      ],
      "text/plain": [
       "                                                             1386  \\\n",
       "popularity                                               9.432768   \n",
       "budget                                                237000000.0   \n",
       "revenue                                               -2147483648   \n",
       "original_title                                             Avatar   \n",
       "cast            Sam Worthington|Zoe Saldana|Sigourney Weaver|S...   \n",
       "director                                            James Cameron   \n",
       "runtime                                                       162   \n",
       "genres                   Action|Adventure|Fantasy|Science Fiction   \n",
       "release_date                                           12/10/2009   \n",
       "release_year                                                 2009   \n",
       "profit                                               2544505847.0   \n",
       "\n",
       "                                                             2244  \n",
       "popularity                                                0.25054  \n",
       "budget                                                425000000.0  \n",
       "revenue                                                  11087569  \n",
       "original_title                                  The Warrior's Way  \n",
       "cast            Kate Bosworth|Jang Dong-gun|Geoffrey Rush|Dann...  \n",
       "director                                               Sngmoo Lee  \n",
       "runtime                                                       100  \n",
       "genres                  Adventure|Fantasy|Action|Western|Thriller  \n",
       "release_date                                            12/2/2010  \n",
       "release_year                                                 2010  \n",
       "profit                                               -413912431.0  "
      ]
     },
     "execution_count": 34,
     "metadata": {},
     "output_type": "execute_result"
    }
   ],
   "source": [
    "def max_min_data(column_name):\n",
    "    #highest rated movie\n",
    "    highest_movie = df[column_name].idxmax()\n",
    "    highest_df = pd.DataFrame(df.loc[highest_movie])\n",
    "    \n",
    "    #least rated movie \n",
    "    lowest_movie = df[column_name].idxmin()\n",
    "    lowest_df = pd.DataFrame(df.loc[lowest_movie])\n",
    "    \n",
    "    #concatenating to comp\n",
    "    max_min_data = pd.concat([highest_df, lowest_df], axis = 1)\n",
    "    \n",
    "    return max_min_data\n",
    "\n",
    "\n",
    "max_min_data('profit')\n",
    "\n",
    "\n"
   ]
  },
  {
   "cell_type": "code",
   "execution_count": 35,
   "id": "cf51142f",
   "metadata": {},
   "outputs": [
    {
     "data": {
      "text/html": [
       "<div>\n",
       "<style scoped>\n",
       "    .dataframe tbody tr th:only-of-type {\n",
       "        vertical-align: middle;\n",
       "    }\n",
       "\n",
       "    .dataframe tbody tr th {\n",
       "        vertical-align: top;\n",
       "    }\n",
       "\n",
       "    .dataframe thead th {\n",
       "        text-align: right;\n",
       "    }\n",
       "</style>\n",
       "<table border=\"1\" class=\"dataframe\">\n",
       "  <thead>\n",
       "    <tr style=\"text-align: right;\">\n",
       "      <th></th>\n",
       "      <th>2244</th>\n",
       "      <th>2618</th>\n",
       "    </tr>\n",
       "  </thead>\n",
       "  <tbody>\n",
       "    <tr>\n",
       "      <th>popularity</th>\n",
       "      <td>0.25054</td>\n",
       "      <td>0.090186</td>\n",
       "    </tr>\n",
       "    <tr>\n",
       "      <th>budget</th>\n",
       "      <td>425000000.0</td>\n",
       "      <td>1.0</td>\n",
       "    </tr>\n",
       "    <tr>\n",
       "      <th>revenue</th>\n",
       "      <td>11087569</td>\n",
       "      <td>100</td>\n",
       "    </tr>\n",
       "    <tr>\n",
       "      <th>original_title</th>\n",
       "      <td>The Warrior's Way</td>\n",
       "      <td>Lost &amp; Found</td>\n",
       "    </tr>\n",
       "    <tr>\n",
       "      <th>cast</th>\n",
       "      <td>Kate Bosworth|Jang Dong-gun|Geoffrey Rush|Dann...</td>\n",
       "      <td>David Spade|Sophie Marceau|Ever Carradine|Step...</td>\n",
       "    </tr>\n",
       "    <tr>\n",
       "      <th>director</th>\n",
       "      <td>Sngmoo Lee</td>\n",
       "      <td>Jeff Pollack</td>\n",
       "    </tr>\n",
       "    <tr>\n",
       "      <th>runtime</th>\n",
       "      <td>100</td>\n",
       "      <td>95</td>\n",
       "    </tr>\n",
       "    <tr>\n",
       "      <th>genres</th>\n",
       "      <td>Adventure|Fantasy|Action|Western|Thriller</td>\n",
       "      <td>Comedy|Romance</td>\n",
       "    </tr>\n",
       "    <tr>\n",
       "      <th>release_date</th>\n",
       "      <td>12/2/2010</td>\n",
       "      <td>4/23/1999</td>\n",
       "    </tr>\n",
       "    <tr>\n",
       "      <th>release_year</th>\n",
       "      <td>2010</td>\n",
       "      <td>1999</td>\n",
       "    </tr>\n",
       "    <tr>\n",
       "      <th>profit</th>\n",
       "      <td>-413912431.0</td>\n",
       "      <td>99.0</td>\n",
       "    </tr>\n",
       "  </tbody>\n",
       "</table>\n",
       "</div>"
      ],
      "text/plain": [
       "                                                             2244  \\\n",
       "popularity                                                0.25054   \n",
       "budget                                                425000000.0   \n",
       "revenue                                                  11087569   \n",
       "original_title                                  The Warrior's Way   \n",
       "cast            Kate Bosworth|Jang Dong-gun|Geoffrey Rush|Dann...   \n",
       "director                                               Sngmoo Lee   \n",
       "runtime                                                       100   \n",
       "genres                  Adventure|Fantasy|Action|Western|Thriller   \n",
       "release_date                                            12/2/2010   \n",
       "release_year                                                 2010   \n",
       "profit                                               -413912431.0   \n",
       "\n",
       "                                                             2618  \n",
       "popularity                                               0.090186  \n",
       "budget                                                        1.0  \n",
       "revenue                                                       100  \n",
       "original_title                                       Lost & Found  \n",
       "cast            David Spade|Sophie Marceau|Ever Carradine|Step...  \n",
       "director                                             Jeff Pollack  \n",
       "runtime                                                        95  \n",
       "genres                                             Comedy|Romance  \n",
       "release_date                                            4/23/1999  \n",
       "release_year                                                 1999  \n",
       "profit                                                       99.0  "
      ]
     },
     "execution_count": 35,
     "metadata": {},
     "output_type": "execute_result"
    }
   ],
   "source": [
    "max_min_data('budget')\n"
   ]
  },
  {
   "cell_type": "code",
   "execution_count": 36,
   "id": "59275ac9",
   "metadata": {},
   "outputs": [
    {
     "data": {
      "text/html": [
       "<div>\n",
       "<style scoped>\n",
       "    .dataframe tbody tr th:only-of-type {\n",
       "        vertical-align: middle;\n",
       "    }\n",
       "\n",
       "    .dataframe tbody tr th {\n",
       "        vertical-align: top;\n",
       "    }\n",
       "\n",
       "    .dataframe thead th {\n",
       "        text-align: right;\n",
       "    }\n",
       "</style>\n",
       "<table border=\"1\" class=\"dataframe\">\n",
       "  <thead>\n",
       "    <tr style=\"text-align: right;\">\n",
       "      <th></th>\n",
       "      <th>2107</th>\n",
       "      <th>5162</th>\n",
       "    </tr>\n",
       "  </thead>\n",
       "  <tbody>\n",
       "    <tr>\n",
       "      <th>popularity</th>\n",
       "      <td>0.534192</td>\n",
       "      <td>0.208637</td>\n",
       "    </tr>\n",
       "    <tr>\n",
       "      <th>budget</th>\n",
       "      <td>18000000.0</td>\n",
       "      <td>10.0</td>\n",
       "    </tr>\n",
       "    <tr>\n",
       "      <th>revenue</th>\n",
       "      <td>871279</td>\n",
       "      <td>5</td>\n",
       "    </tr>\n",
       "    <tr>\n",
       "      <th>original_title</th>\n",
       "      <td>Carlos</td>\n",
       "      <td>Kid's Story</td>\n",
       "    </tr>\n",
       "    <tr>\n",
       "      <th>cast</th>\n",
       "      <td>Edgar RamÃ­rez|Alexander Scheer|Fadi Abi Samra...</td>\n",
       "      <td>Clayton Watson|Keanu Reeves|Carrie-Anne Moss|K...</td>\n",
       "    </tr>\n",
       "    <tr>\n",
       "      <th>director</th>\n",
       "      <td>Olivier Assayas</td>\n",
       "      <td>Shinichiro Watanabe</td>\n",
       "    </tr>\n",
       "    <tr>\n",
       "      <th>runtime</th>\n",
       "      <td>338</td>\n",
       "      <td>15</td>\n",
       "    </tr>\n",
       "    <tr>\n",
       "      <th>genres</th>\n",
       "      <td>Crime|Drama|Thriller|History</td>\n",
       "      <td>Science Fiction|Animation</td>\n",
       "    </tr>\n",
       "    <tr>\n",
       "      <th>release_date</th>\n",
       "      <td>5/19/2010</td>\n",
       "      <td>6/2/2003</td>\n",
       "    </tr>\n",
       "    <tr>\n",
       "      <th>release_year</th>\n",
       "      <td>2010</td>\n",
       "      <td>2003</td>\n",
       "    </tr>\n",
       "    <tr>\n",
       "      <th>profit</th>\n",
       "      <td>-17128721.0</td>\n",
       "      <td>-5.0</td>\n",
       "    </tr>\n",
       "  </tbody>\n",
       "</table>\n",
       "</div>"
      ],
      "text/plain": [
       "                                                             2107  \\\n",
       "popularity                                               0.534192   \n",
       "budget                                                 18000000.0   \n",
       "revenue                                                    871279   \n",
       "original_title                                             Carlos   \n",
       "cast            Edgar RamÃ­rez|Alexander Scheer|Fadi Abi Samra...   \n",
       "director                                          Olivier Assayas   \n",
       "runtime                                                       338   \n",
       "genres                               Crime|Drama|Thriller|History   \n",
       "release_date                                            5/19/2010   \n",
       "release_year                                                 2010   \n",
       "profit                                                -17128721.0   \n",
       "\n",
       "                                                             5162  \n",
       "popularity                                               0.208637  \n",
       "budget                                                       10.0  \n",
       "revenue                                                         5  \n",
       "original_title                                        Kid's Story  \n",
       "cast            Clayton Watson|Keanu Reeves|Carrie-Anne Moss|K...  \n",
       "director                                      Shinichiro Watanabe  \n",
       "runtime                                                        15  \n",
       "genres                                  Science Fiction|Animation  \n",
       "release_date                                             6/2/2003  \n",
       "release_year                                                 2003  \n",
       "profit                                                       -5.0  "
      ]
     },
     "execution_count": 36,
     "metadata": {},
     "output_type": "execute_result"
    }
   ],
   "source": [
    "max_min_data('runtime')"
   ]
  },
  {
   "cell_type": "markdown",
   "id": "29e8eed2",
   "metadata": {},
   "source": [
    "#### Let's visualise the table toppers now :)"
   ]
  },
  {
   "cell_type": "code",
   "execution_count": 37,
   "id": "435b562f",
   "metadata": {},
   "outputs": [
    {
     "data": {
      "text/plain": [
       "<AxesSubplot:title={'center':'TOP TEN MOVIES AND ITS PROFIT'}, xlabel='original_title'>"
      ]
     },
     "execution_count": 37,
     "metadata": {},
     "output_type": "execute_result"
    },
    {
     "data": {
      "image/png": "[encoded data removed]",
      "text/plain": [
       "<Figure size 720x360 with 1 Axes>"
      ]
     },
     "metadata": {
      "needs_background": "light"
     },
     "output_type": "display_data"
    }
   ],
   "source": [
    "df8=df7.iloc[:10]\n",
    "df8.plot(x=\"original_title\", y=\"profit\",kind=\"bar\", figsize=(10,5), title=\"TOP TEN MOVIES AND ITS PROFIT\")"
   ]
  },
  {
   "cell_type": "code",
   "execution_count": 38,
   "id": "6089f8f0",
   "metadata": {},
   "outputs": [
    {
     "data": {
      "text/html": [
       "<div>\n",
       "<style scoped>\n",
       "    .dataframe tbody tr th:only-of-type {\n",
       "        vertical-align: middle;\n",
       "    }\n",
       "\n",
       "    .dataframe tbody tr th {\n",
       "        vertical-align: top;\n",
       "    }\n",
       "\n",
       "    .dataframe thead th {\n",
       "        text-align: right;\n",
       "    }\n",
       "</style>\n",
       "<table border=\"1\" class=\"dataframe\">\n",
       "  <thead>\n",
       "    <tr style=\"text-align: right;\">\n",
       "      <th></th>\n",
       "      <th>popularity</th>\n",
       "      <th>budget</th>\n",
       "      <th>revenue</th>\n",
       "      <th>original_title</th>\n",
       "      <th>cast</th>\n",
       "      <th>director</th>\n",
       "      <th>runtime</th>\n",
       "      <th>genres</th>\n",
       "      <th>release_date</th>\n",
       "      <th>release_year</th>\n",
       "      <th>profit</th>\n",
       "    </tr>\n",
       "  </thead>\n",
       "  <tbody>\n",
       "    <tr>\n",
       "      <th>2244</th>\n",
       "      <td>0.250540</td>\n",
       "      <td>425000000.0</td>\n",
       "      <td>11087569</td>\n",
       "      <td>The Warrior's Way</td>\n",
       "      <td>Kate Bosworth|Jang Dong-gun|Geoffrey Rush|Dann...</td>\n",
       "      <td>Sngmoo Lee</td>\n",
       "      <td>100</td>\n",
       "      <td>Adventure|Fantasy|Action|Western|Thriller</td>\n",
       "      <td>12/2/2010</td>\n",
       "      <td>2010</td>\n",
       "      <td>-4.139124e+08</td>\n",
       "    </tr>\n",
       "    <tr>\n",
       "      <th>3375</th>\n",
       "      <td>4.955130</td>\n",
       "      <td>380000000.0</td>\n",
       "      <td>1021683000</td>\n",
       "      <td>Pirates of the Caribbean: On Stranger Tides</td>\n",
       "      <td>Johnny Depp|PenÃ©lope Cruz|Geoffrey Rush|Ian M...</td>\n",
       "      <td>Rob Marshall</td>\n",
       "      <td>136</td>\n",
       "      <td>Adventure|Action|Fantasy</td>\n",
       "      <td>5/11/2011</td>\n",
       "      <td>2011</td>\n",
       "      <td>6.416830e+08</td>\n",
       "    </tr>\n",
       "    <tr>\n",
       "      <th>7387</th>\n",
       "      <td>4.965391</td>\n",
       "      <td>300000000.0</td>\n",
       "      <td>961000000</td>\n",
       "      <td>Pirates of the Caribbean: At World's End</td>\n",
       "      <td>Johnny Depp|Orlando Bloom|Keira Knightley|Geof...</td>\n",
       "      <td>Gore Verbinski</td>\n",
       "      <td>169</td>\n",
       "      <td>Adventure|Fantasy|Action</td>\n",
       "      <td>5/19/2007</td>\n",
       "      <td>2007</td>\n",
       "      <td>6.610000e+08</td>\n",
       "    </tr>\n",
       "    <tr>\n",
       "      <th>14</th>\n",
       "      <td>5.944927</td>\n",
       "      <td>280000000.0</td>\n",
       "      <td>1405035767</td>\n",
       "      <td>Avengers: Age of Ultron</td>\n",
       "      <td>Robert Downey Jr.|Chris Hemsworth|Mark Ruffalo...</td>\n",
       "      <td>Joss Whedon</td>\n",
       "      <td>141</td>\n",
       "      <td>Action|Adventure|Science Fiction</td>\n",
       "      <td>4/22/2015</td>\n",
       "      <td>2015</td>\n",
       "      <td>1.125036e+09</td>\n",
       "    </tr>\n",
       "    <tr>\n",
       "      <th>6570</th>\n",
       "      <td>1.957331</td>\n",
       "      <td>270000000.0</td>\n",
       "      <td>391081192</td>\n",
       "      <td>Superman Returns</td>\n",
       "      <td>Brandon Routh|Kevin Spacey|Kate Bosworth|James...</td>\n",
       "      <td>Bryan Singer</td>\n",
       "      <td>154</td>\n",
       "      <td>Adventure|Fantasy|Action|Science Fiction</td>\n",
       "      <td>6/28/2006</td>\n",
       "      <td>2006</td>\n",
       "      <td>1.210812e+08</td>\n",
       "    </tr>\n",
       "  </tbody>\n",
       "</table>\n",
       "</div>"
      ],
      "text/plain": [
       "      popularity       budget     revenue  \\\n",
       "2244    0.250540  425000000.0    11087569   \n",
       "3375    4.955130  380000000.0  1021683000   \n",
       "7387    4.965391  300000000.0   961000000   \n",
       "14      5.944927  280000000.0  1405035767   \n",
       "6570    1.957331  270000000.0   391081192   \n",
       "\n",
       "                                   original_title  \\\n",
       "2244                            The Warrior's Way   \n",
       "3375  Pirates of the Caribbean: On Stranger Tides   \n",
       "7387     Pirates of the Caribbean: At World's End   \n",
       "14                        Avengers: Age of Ultron   \n",
       "6570                             Superman Returns   \n",
       "\n",
       "                                                   cast        director  \\\n",
       "2244  Kate Bosworth|Jang Dong-gun|Geoffrey Rush|Dann...      Sngmoo Lee   \n",
       "3375  Johnny Depp|PenÃ©lope Cruz|Geoffrey Rush|Ian M...    Rob Marshall   \n",
       "7387  Johnny Depp|Orlando Bloom|Keira Knightley|Geof...  Gore Verbinski   \n",
       "14    Robert Downey Jr.|Chris Hemsworth|Mark Ruffalo...     Joss Whedon   \n",
       "6570  Brandon Routh|Kevin Spacey|Kate Bosworth|James...    Bryan Singer   \n",
       "\n",
       "      runtime                                     genres release_date  \\\n",
       "2244      100  Adventure|Fantasy|Action|Western|Thriller    12/2/2010   \n",
       "3375      136                   Adventure|Action|Fantasy    5/11/2011   \n",
       "7387      169                   Adventure|Fantasy|Action    5/19/2007   \n",
       "14        141           Action|Adventure|Science Fiction    4/22/2015   \n",
       "6570      154   Adventure|Fantasy|Action|Science Fiction    6/28/2006   \n",
       "\n",
       "      release_year        profit  \n",
       "2244          2010 -4.139124e+08  \n",
       "3375          2011  6.416830e+08  \n",
       "7387          2007  6.610000e+08  \n",
       "14            2015  1.125036e+09  \n",
       "6570          2006  1.210812e+08  "
      ]
     },
     "execution_count": 38,
     "metadata": {},
     "output_type": "execute_result"
    }
   ],
   "source": [
    "df10=df.sort_values(['budget'], ascending = False).head(10)\n",
    "df10.head()"
   ]
  },
  {
   "cell_type": "code",
   "execution_count": 39,
   "id": "bf0d7d1f",
   "metadata": {},
   "outputs": [
    {
     "data": {
      "text/plain": [
       "<AxesSubplot:title={'center':'TOP TEN MOVIES AND ITS BUDGET'}, xlabel='original_title'>"
      ]
     },
     "execution_count": 39,
     "metadata": {},
     "output_type": "execute_result"
    },
    {
     "data": {
      "image/png": "[encoded data removed]",
      "text/plain": [
       "<Figure size 720x360 with 1 Axes>"
      ]
     },
     "metadata": {
      "needs_background": "light"
     },
     "output_type": "display_data"
    }
   ],
   "source": [
    "df11=df10.iloc[:10]\n",
    "df11.plot(x=\"original_title\", y=\"budget\",kind=\"bar\", figsize=(10,5), title=\"TOP TEN MOVIES AND ITS BUDGET\")"
   ]
  },
  {
   "cell_type": "code",
   "execution_count": 40,
   "id": "43a937fa",
   "metadata": {},
   "outputs": [
    {
     "data": {
      "image/png": "[encoded data removed]",
      "text/plain": [
       "<Figure size 576x576 with 1 Axes>"
      ]
     },
     "metadata": {
      "needs_background": "light"
     },
     "output_type": "display_data"
    }
   ],
   "source": [
    "df['runtime'].hist(figsize = (8,8), bins = 50)\n",
    "plt.xlabel('Runtime', fontsize = 15)\n",
    "plt.ylabel('Number of Movies', fontsize=15)\n",
    "plt.title('Runtime distribution of all the movies', fontsize=18);"
   ]
  },
  {
   "cell_type": "markdown",
   "id": "8ee59681",
   "metadata": {},
   "source": [
    "#### Most movies are about 110 minutes."
   ]
  },
  {
   "cell_type": "markdown",
   "id": "723f2a96",
   "metadata": {},
   "source": [
    "### > How does popularity affect the profit?"
   ]
  },
  {
   "cell_type": "code",
   "execution_count": 41,
   "id": "c6d348f3",
   "metadata": {},
   "outputs": [
    {
     "data": {
      "text/plain": [
       "0.5960802044338906"
      ]
     },
     "execution_count": 41,
     "metadata": {},
     "output_type": "execute_result"
    },
    {
     "data": {
      "image/png": "[encoded data removed]",
      "text/plain": [
       "<Figure size 432x288 with 1 Axes>"
      ]
     },
     "metadata": {
      "needs_background": "light"
     },
     "output_type": "display_data"
    }
   ],
   "source": [
    "\n",
    "# Create a scatter plot to study relationship between popularity and porfit.\n",
    "\n",
    "ax = sns.regplot(x=df['popularity'],y=df['profit'],color='purple')\n",
    "#regplot is used to plot data and a linear regression model fit.\n",
    "\n",
    "ax.set_title(\"Popularity Vs Profit\",fontsize=14)\n",
    "ax.set_xlabel(\"Popularity\",fontsize=12)\n",
    "ax.set_ylabel(\"Profit\",fontsize=12)\n",
    "\n",
    "#setup the figure size.\n",
    "sns.set(rc={'figure.figsize':(6,4)})\n",
    "\n",
    "\n",
    "dfcx=df.loc[:,['profit','popularity']]\n",
    "dfff=dfcx.corr()\n",
    "dfff[\"profit\"][\"popularity\"] #.head()\n",
    "#print(dfff.loc['profit','popularity'])\n"
   ]
  },
  {
   "cell_type": "markdown",
   "id": "1edc29e8",
   "metadata": {},
   "source": [
    "#### From the scatter plot, it can be concluded that there is a positive relationship between popularity and profit. \n",
    "#### The trend line is on a uphill direction and the correlation coefficient value is calculated to be positive."
   ]
  },
  {
   "cell_type": "markdown",
   "id": "9a7dabbc",
   "metadata": {},
   "source": [
    "### > Which years do movies made the most profits"
   ]
  },
  {
   "cell_type": "code",
   "execution_count": 42,
   "id": "7fdd188d",
   "metadata": {},
   "outputs": [
    {
     "data": {
      "text/plain": [
       "release_year\n",
       "1960    108198052.0\n",
       "1961    299083188.0\n",
       "1962    166879846.0\n",
       "1963    115411882.0\n",
       "1964    294678387.0\n",
       "Name: profit, dtype: float64"
      ]
     },
     "execution_count": 42,
     "metadata": {},
     "output_type": "execute_result"
    }
   ],
   "source": [
    "profit_year = df.groupby('release_year')['profit'].sum()\n",
    "profit_year.head(5)"
   ]
  },
  {
   "cell_type": "code",
   "execution_count": 43,
   "id": "047bafdd",
   "metadata": {},
   "outputs": [
    {
     "data": {
      "image/png": "[encoded data removed]",
      "text/plain": [
       "<Figure size 720x432 with 1 Axes>"
      ]
     },
     "metadata": {},
     "output_type": "display_data"
    }
   ],
   "source": [
    "profit_year.plot(figsize = (10,6))\n",
    "plt.xlabel('Movies released year', fontsize = 12)\n",
    "plt.ylabel('Total Profits made by Movies', fontsize = 12)\n",
    "plt.title('Total Profits vs Movie Years', fontsize = 14);"
   ]
  },
  {
   "cell_type": "code",
   "execution_count": 44,
   "id": "1b6c3a41",
   "metadata": {},
   "outputs": [
    {
     "data": {
      "text/plain": [
       "release_year\n",
       "1960    20806948.0\n",
       "1961    38637000.0\n",
       "1962    39450000.0\n",
       "1963    61115000.0\n",
       "1964    33935161.0\n",
       "Name: budget, dtype: float64"
      ]
     },
     "execution_count": 44,
     "metadata": {},
     "output_type": "execute_result"
    }
   ],
   "source": [
    "budget_year = df.groupby('release_year')['budget'].sum()\n",
    "budget_year.head()"
   ]
  },
  {
   "cell_type": "code",
   "execution_count": 45,
   "id": "6681b65a",
   "metadata": {},
   "outputs": [
    {
     "data": {
      "image/png": "[encoded data removed]",
      "text/plain": [
       "<Figure size 720x432 with 1 Axes>"
      ]
     },
     "metadata": {},
     "output_type": "display_data"
    }
   ],
   "source": [
    "budget_year.plot(figsize = (10,6))\n",
    "plt.xlabel('Movies released year', fontsize = 12)\n",
    "plt.ylabel('Total Profits made by Movies', fontsize = 12)\n",
    "plt.title('Budget vs Movie Years', fontsize = 14);"
   ]
  },
  {
   "cell_type": "markdown",
   "id": "71252695",
   "metadata": {},
   "source": [
    " ### The plot shows that profits increases as years increases."
   ]
  },
  {
   "cell_type": "markdown",
   "id": "df3a7484",
   "metadata": {},
   "source": [
    "### > What are the top casts, directors and genres?\n"
   ]
  },
  {
   "cell_type": "code",
   "execution_count": 46,
   "id": "59c081c2",
   "metadata": {},
   "outputs": [
    {
     "data": {
      "text/html": [
       "<div>\n",
       "<style scoped>\n",
       "    .dataframe tbody tr th:only-of-type {\n",
       "        vertical-align: middle;\n",
       "    }\n",
       "\n",
       "    .dataframe tbody tr th {\n",
       "        vertical-align: top;\n",
       "    }\n",
       "\n",
       "    .dataframe thead th {\n",
       "        text-align: right;\n",
       "    }\n",
       "</style>\n",
       "<table border=\"1\" class=\"dataframe\">\n",
       "  <thead>\n",
       "    <tr style=\"text-align: right;\">\n",
       "      <th></th>\n",
       "      <th>original_title</th>\n",
       "      <th>cast</th>\n",
       "      <th>director</th>\n",
       "      <th>genres</th>\n",
       "    </tr>\n",
       "  </thead>\n",
       "  <tbody>\n",
       "    <tr>\n",
       "      <th>0</th>\n",
       "      <td>Jurassic World</td>\n",
       "      <td>Chris Pratt|Bryce Dallas Howard|Irrfan Khan|Vi...</td>\n",
       "      <td>Colin Trevorrow</td>\n",
       "      <td>Action|Adventure|Science Fiction|Thriller</td>\n",
       "    </tr>\n",
       "    <tr>\n",
       "      <th>1</th>\n",
       "      <td>Mad Max: Fury Road</td>\n",
       "      <td>Tom Hardy|Charlize Theron|Hugh Keays-Byrne|Nic...</td>\n",
       "      <td>George Miller</td>\n",
       "      <td>Action|Adventure|Science Fiction|Thriller</td>\n",
       "    </tr>\n",
       "    <tr>\n",
       "      <th>2</th>\n",
       "      <td>Insurgent</td>\n",
       "      <td>Shailene Woodley|Theo James|Kate Winslet|Ansel...</td>\n",
       "      <td>Robert Schwentke</td>\n",
       "      <td>Adventure|Science Fiction|Thriller</td>\n",
       "    </tr>\n",
       "    <tr>\n",
       "      <th>3</th>\n",
       "      <td>Star Wars: The Force Awakens</td>\n",
       "      <td>Harrison Ford|Mark Hamill|Carrie Fisher|Adam D...</td>\n",
       "      <td>J.J. Abrams</td>\n",
       "      <td>Action|Adventure|Science Fiction|Fantasy</td>\n",
       "    </tr>\n",
       "    <tr>\n",
       "      <th>4</th>\n",
       "      <td>Furious 7</td>\n",
       "      <td>Vin Diesel|Paul Walker|Jason Statham|Michelle ...</td>\n",
       "      <td>James Wan</td>\n",
       "      <td>Action|Crime|Thriller</td>\n",
       "    </tr>\n",
       "  </tbody>\n",
       "</table>\n",
       "</div>"
      ],
      "text/plain": [
       "                 original_title  \\\n",
       "0                Jurassic World   \n",
       "1            Mad Max: Fury Road   \n",
       "2                     Insurgent   \n",
       "3  Star Wars: The Force Awakens   \n",
       "4                     Furious 7   \n",
       "\n",
       "                                                cast          director  \\\n",
       "0  Chris Pratt|Bryce Dallas Howard|Irrfan Khan|Vi...   Colin Trevorrow   \n",
       "1  Tom Hardy|Charlize Theron|Hugh Keays-Byrne|Nic...     George Miller   \n",
       "2  Shailene Woodley|Theo James|Kate Winslet|Ansel...  Robert Schwentke   \n",
       "3  Harrison Ford|Mark Hamill|Carrie Fisher|Adam D...       J.J. Abrams   \n",
       "4  Vin Diesel|Paul Walker|Jason Statham|Michelle ...         James Wan   \n",
       "\n",
       "                                      genres  \n",
       "0  Action|Adventure|Science Fiction|Thriller  \n",
       "1  Action|Adventure|Science Fiction|Thriller  \n",
       "2         Adventure|Science Fiction|Thriller  \n",
       "3   Action|Adventure|Science Fiction|Fantasy  \n",
       "4                      Action|Crime|Thriller  "
      ]
     },
     "execution_count": 46,
     "metadata": {},
     "output_type": "execute_result"
    }
   ],
   "source": [
    "df.loc[:,['original_title', 'cast', 'director', 'genres']].head()\n"
   ]
  },
  {
   "cell_type": "markdown",
   "id": "ce183209",
   "metadata": {},
   "source": [
    "### > Which months have higher profits\n"
   ]
  },
  {
   "cell_type": "code",
   "execution_count": 47,
   "id": "395c6c88",
   "metadata": {},
   "outputs": [
    {
     "data": {
      "image/png": "[encoded data removed]",
      "text/plain": [
       "<Figure size 432x288 with 1 Axes>"
      ]
     },
     "metadata": {},
     "output_type": "display_data"
    }
   ],
   "source": [
    "df['release_date']=pd.to_datetime(df['release_date'])\n",
    "df['release_month']=df['release_date'].dt.month\n",
    "profit_by_month = df.groupby('release_month')['profit'].mean()\n",
    "#df.plot(x=\"release_month\", y=\"profit_by_month\",kind=\"bar\", figsize=(10,5), title=\"Month vs Profit\")\n",
    "months=['Jan','Feb','Mar','Apr','May','Jun','Jul','Aug','Sep','Oct','Nov','Dec']\n",
    "plt.bar(np.arange(0, 12), profit_by_month, tick_label = months, )\n",
    "plt.title('Average profit by month (1960 - 2015)');\n",
    "plt.ylabel('Revenue in 100s of million ($)');\n",
    "plt.xlabel('Months');\n",
    "plt.legend('Profit');"
   ]
  },
  {
   "cell_type": "markdown",
   "id": "74c2df59",
   "metadata": {},
   "source": [
    "### > Top Casts, Directors and genres"
   ]
  },
  {
   "cell_type": "code",
   "execution_count": 48,
   "id": "a7a742e3",
   "metadata": {},
   "outputs": [
    {
     "data": {
      "text/html": [
       "<div>\n",
       "<style scoped>\n",
       "    .dataframe tbody tr th:only-of-type {\n",
       "        vertical-align: middle;\n",
       "    }\n",
       "\n",
       "    .dataframe tbody tr th {\n",
       "        vertical-align: top;\n",
       "    }\n",
       "\n",
       "    .dataframe thead th {\n",
       "        text-align: right;\n",
       "    }\n",
       "</style>\n",
       "<table border=\"1\" class=\"dataframe\">\n",
       "  <thead>\n",
       "    <tr style=\"text-align: right;\">\n",
       "      <th></th>\n",
       "      <th>original_title</th>\n",
       "      <th>cast</th>\n",
       "      <th>director</th>\n",
       "      <th>genres</th>\n",
       "    </tr>\n",
       "  </thead>\n",
       "  <tbody>\n",
       "    <tr>\n",
       "      <th>0</th>\n",
       "      <td>Jurassic World</td>\n",
       "      <td>Chris Pratt|Bryce Dallas Howard|Irrfan Khan|Vi...</td>\n",
       "      <td>Colin Trevorrow</td>\n",
       "      <td>Action|Adventure|Science Fiction|Thriller</td>\n",
       "    </tr>\n",
       "    <tr>\n",
       "      <th>1</th>\n",
       "      <td>Mad Max: Fury Road</td>\n",
       "      <td>Tom Hardy|Charlize Theron|Hugh Keays-Byrne|Nic...</td>\n",
       "      <td>George Miller</td>\n",
       "      <td>Action|Adventure|Science Fiction|Thriller</td>\n",
       "    </tr>\n",
       "    <tr>\n",
       "      <th>2</th>\n",
       "      <td>Insurgent</td>\n",
       "      <td>Shailene Woodley|Theo James|Kate Winslet|Ansel...</td>\n",
       "      <td>Robert Schwentke</td>\n",
       "      <td>Adventure|Science Fiction|Thriller</td>\n",
       "    </tr>\n",
       "    <tr>\n",
       "      <th>3</th>\n",
       "      <td>Star Wars: The Force Awakens</td>\n",
       "      <td>Harrison Ford|Mark Hamill|Carrie Fisher|Adam D...</td>\n",
       "      <td>J.J. Abrams</td>\n",
       "      <td>Action|Adventure|Science Fiction|Fantasy</td>\n",
       "    </tr>\n",
       "    <tr>\n",
       "      <th>4</th>\n",
       "      <td>Furious 7</td>\n",
       "      <td>Vin Diesel|Paul Walker|Jason Statham|Michelle ...</td>\n",
       "      <td>James Wan</td>\n",
       "      <td>Action|Crime|Thriller</td>\n",
       "    </tr>\n",
       "  </tbody>\n",
       "</table>\n",
       "</div>"
      ],
      "text/plain": [
       "                 original_title  \\\n",
       "0                Jurassic World   \n",
       "1            Mad Max: Fury Road   \n",
       "2                     Insurgent   \n",
       "3  Star Wars: The Force Awakens   \n",
       "4                     Furious 7   \n",
       "\n",
       "                                                cast          director  \\\n",
       "0  Chris Pratt|Bryce Dallas Howard|Irrfan Khan|Vi...   Colin Trevorrow   \n",
       "1  Tom Hardy|Charlize Theron|Hugh Keays-Byrne|Nic...     George Miller   \n",
       "2  Shailene Woodley|Theo James|Kate Winslet|Ansel...  Robert Schwentke   \n",
       "3  Harrison Ford|Mark Hamill|Carrie Fisher|Adam D...       J.J. Abrams   \n",
       "4  Vin Diesel|Paul Walker|Jason Statham|Michelle ...         James Wan   \n",
       "\n",
       "                                      genres  \n",
       "0  Action|Adventure|Science Fiction|Thriller  \n",
       "1  Action|Adventure|Science Fiction|Thriller  \n",
       "2         Adventure|Science Fiction|Thriller  \n",
       "3   Action|Adventure|Science Fiction|Fantasy  \n",
       "4                      Action|Crime|Thriller  "
      ]
     },
     "execution_count": 48,
     "metadata": {},
     "output_type": "execute_result"
    }
   ],
   "source": [
    "df.loc[:,['original_title', 'cast', 'director', 'genres']].head()"
   ]
  },
  {
   "cell_type": "code",
   "execution_count": 49,
   "id": "26f0fe88",
   "metadata": {},
   "outputs": [],
   "source": [
    "def extract_data(column_name):\n",
    "    df['cast']=df['cast'].astype(str)\n",
    "    df['director']=df['director'].astype(str)\n",
    "    all_data = df[column_name].str.cat(sep = '|')\n",
    "    all_data = pd.Series(all_data.split('|'))\n",
    "    count = all_data.value_counts(ascending = False)\n",
    "    return count"
   ]
  },
  {
   "cell_type": "code",
   "execution_count": 50,
   "id": "58cea960",
   "metadata": {},
   "outputs": [
    {
     "data": {
      "text/html": [
       "<div>\n",
       "<style scoped>\n",
       "    .dataframe tbody tr th:only-of-type {\n",
       "        vertical-align: middle;\n",
       "    }\n",
       "\n",
       "    .dataframe tbody tr th {\n",
       "        vertical-align: top;\n",
       "    }\n",
       "\n",
       "    .dataframe thead th {\n",
       "        text-align: right;\n",
       "    }\n",
       "</style>\n",
       "<table border=\"1\" class=\"dataframe\">\n",
       "  <thead>\n",
       "    <tr style=\"text-align: right;\">\n",
       "      <th></th>\n",
       "      <th>0</th>\n",
       "    </tr>\n",
       "  </thead>\n",
       "  <tbody>\n",
       "    <tr>\n",
       "      <th>Robert De Niro</th>\n",
       "      <td>52</td>\n",
       "    </tr>\n",
       "    <tr>\n",
       "      <th>Bruce Willis</th>\n",
       "      <td>46</td>\n",
       "    </tr>\n",
       "    <tr>\n",
       "      <th>Samuel L. Jackson</th>\n",
       "      <td>44</td>\n",
       "    </tr>\n",
       "    <tr>\n",
       "      <th>Nicolas Cage</th>\n",
       "      <td>43</td>\n",
       "    </tr>\n",
       "    <tr>\n",
       "      <th>Matt Damon</th>\n",
       "      <td>36</td>\n",
       "    </tr>\n",
       "    <tr>\n",
       "      <th>Johnny Depp</th>\n",
       "      <td>35</td>\n",
       "    </tr>\n",
       "    <tr>\n",
       "      <th>Sylvester Stallone</th>\n",
       "      <td>34</td>\n",
       "    </tr>\n",
       "    <tr>\n",
       "      <th>Brad Pitt</th>\n",
       "      <td>34</td>\n",
       "    </tr>\n",
       "    <tr>\n",
       "      <th>Harrison Ford</th>\n",
       "      <td>34</td>\n",
       "    </tr>\n",
       "    <tr>\n",
       "      <th>Morgan Freeman</th>\n",
       "      <td>34</td>\n",
       "    </tr>\n",
       "  </tbody>\n",
       "</table>\n",
       "</div>"
      ],
      "text/plain": [
       "                     0\n",
       "Robert De Niro      52\n",
       "Bruce Willis        46\n",
       "Samuel L. Jackson   44\n",
       "Nicolas Cage        43\n",
       "Matt Damon          36\n",
       "Johnny Depp         35\n",
       "Sylvester Stallone  34\n",
       "Brad Pitt           34\n",
       "Harrison Ford       34\n",
       "Morgan Freeman      34"
      ]
     },
     "execution_count": 50,
     "metadata": {},
     "output_type": "execute_result"
    }
   ],
   "source": [
    "cast_count = extract_data('cast')\n",
    "cast_count = pd.DataFrame(data=cast_count)\n",
    "top_cast = cast_count.head(10)\n",
    "top_cast"
   ]
  },
  {
   "cell_type": "code",
   "execution_count": 51,
   "id": "66a0a343",
   "metadata": {},
   "outputs": [
    {
     "data": {
      "text/html": [
       "<div>\n",
       "<style scoped>\n",
       "    .dataframe tbody tr th:only-of-type {\n",
       "        vertical-align: middle;\n",
       "    }\n",
       "\n",
       "    .dataframe tbody tr th {\n",
       "        vertical-align: top;\n",
       "    }\n",
       "\n",
       "    .dataframe thead th {\n",
       "        text-align: right;\n",
       "    }\n",
       "</style>\n",
       "<table border=\"1\" class=\"dataframe\">\n",
       "  <thead>\n",
       "    <tr style=\"text-align: right;\">\n",
       "      <th></th>\n",
       "      <th>0</th>\n",
       "    </tr>\n",
       "  </thead>\n",
       "  <tbody>\n",
       "    <tr>\n",
       "      <th>Steven Spielberg</th>\n",
       "      <td>28</td>\n",
       "    </tr>\n",
       "    <tr>\n",
       "      <th>Clint Eastwood</th>\n",
       "      <td>24</td>\n",
       "    </tr>\n",
       "    <tr>\n",
       "      <th>Ridley Scott</th>\n",
       "      <td>21</td>\n",
       "    </tr>\n",
       "    <tr>\n",
       "      <th>Woody Allen</th>\n",
       "      <td>18</td>\n",
       "    </tr>\n",
       "    <tr>\n",
       "      <th>Tim Burton</th>\n",
       "      <td>17</td>\n",
       "    </tr>\n",
       "    <tr>\n",
       "      <th>Martin Scorsese</th>\n",
       "      <td>17</td>\n",
       "    </tr>\n",
       "    <tr>\n",
       "      <th>Robert Rodriguez</th>\n",
       "      <td>17</td>\n",
       "    </tr>\n",
       "    <tr>\n",
       "      <th>Steven Soderbergh</th>\n",
       "      <td>17</td>\n",
       "    </tr>\n",
       "    <tr>\n",
       "      <th>Robert Zemeckis</th>\n",
       "      <td>15</td>\n",
       "    </tr>\n",
       "    <tr>\n",
       "      <th>Brian De Palma</th>\n",
       "      <td>15</td>\n",
       "    </tr>\n",
       "  </tbody>\n",
       "</table>\n",
       "</div>"
      ],
      "text/plain": [
       "                    0\n",
       "Steven Spielberg   28\n",
       "Clint Eastwood     24\n",
       "Ridley Scott       21\n",
       "Woody Allen        18\n",
       "Tim Burton         17\n",
       "Martin Scorsese    17\n",
       "Robert Rodriguez   17\n",
       "Steven Soderbergh  17\n",
       "Robert Zemeckis    15\n",
       "Brian De Palma     15"
      ]
     },
     "execution_count": 51,
     "metadata": {},
     "output_type": "execute_result"
    }
   ],
   "source": [
    "director_count = extract_data('director')\n",
    "director_count = pd.DataFrame(data=director_count)\n",
    "top_director = director_count.head(10)\n",
    "top_director"
   ]
  },
  {
   "cell_type": "code",
   "execution_count": 52,
   "id": "a584f6e6",
   "metadata": {},
   "outputs": [
    {
     "data": {
      "text/html": [
       "<div>\n",
       "<style scoped>\n",
       "    .dataframe tbody tr th:only-of-type {\n",
       "        vertical-align: middle;\n",
       "    }\n",
       "\n",
       "    .dataframe tbody tr th {\n",
       "        vertical-align: top;\n",
       "    }\n",
       "\n",
       "    .dataframe thead th {\n",
       "        text-align: right;\n",
       "    }\n",
       "</style>\n",
       "<table border=\"1\" class=\"dataframe\">\n",
       "  <thead>\n",
       "    <tr style=\"text-align: right;\">\n",
       "      <th></th>\n",
       "      <th>0</th>\n",
       "    </tr>\n",
       "  </thead>\n",
       "  <tbody>\n",
       "    <tr>\n",
       "      <th>Drama</th>\n",
       "      <td>1753</td>\n",
       "    </tr>\n",
       "    <tr>\n",
       "      <th>Comedy</th>\n",
       "      <td>1357</td>\n",
       "    </tr>\n",
       "    <tr>\n",
       "      <th>Thriller</th>\n",
       "      <td>1203</td>\n",
       "    </tr>\n",
       "    <tr>\n",
       "      <th>Action</th>\n",
       "      <td>1085</td>\n",
       "    </tr>\n",
       "    <tr>\n",
       "      <th>Adventure</th>\n",
       "      <td>749</td>\n",
       "    </tr>\n",
       "    <tr>\n",
       "      <th>Romance</th>\n",
       "      <td>666</td>\n",
       "    </tr>\n",
       "    <tr>\n",
       "      <th>Crime</th>\n",
       "      <td>651</td>\n",
       "    </tr>\n",
       "    <tr>\n",
       "      <th>Science Fiction</th>\n",
       "      <td>519</td>\n",
       "    </tr>\n",
       "    <tr>\n",
       "      <th>Horror</th>\n",
       "      <td>463</td>\n",
       "    </tr>\n",
       "    <tr>\n",
       "      <th>Family</th>\n",
       "      <td>425</td>\n",
       "    </tr>\n",
       "  </tbody>\n",
       "</table>\n",
       "</div>"
      ],
      "text/plain": [
       "                    0\n",
       "Drama            1753\n",
       "Comedy           1357\n",
       "Thriller         1203\n",
       "Action           1085\n",
       "Adventure         749\n",
       "Romance           666\n",
       "Crime             651\n",
       "Science Fiction   519\n",
       "Horror            463\n",
       "Family            425"
      ]
     },
     "execution_count": 52,
     "metadata": {},
     "output_type": "execute_result"
    }
   ],
   "source": [
    "genres_count = extract_data('genres')\n",
    "genres_count = pd.DataFrame(data=genres_count)\n",
    "top_genres = genres_count.head(10)\n",
    "top_genres"
   ]
  },
  {
   "cell_type": "code",
   "execution_count": 53,
   "id": "9c98a922",
   "metadata": {},
   "outputs": [
    {
     "data": {
      "text/html": [
       "<div>\n",
       "<style scoped>\n",
       "    .dataframe tbody tr th:only-of-type {\n",
       "        vertical-align: middle;\n",
       "    }\n",
       "\n",
       "    .dataframe tbody tr th {\n",
       "        vertical-align: top;\n",
       "    }\n",
       "\n",
       "    .dataframe thead th {\n",
       "        text-align: right;\n",
       "    }\n",
       "</style>\n",
       "<table border=\"1\" class=\"dataframe\">\n",
       "  <thead>\n",
       "    <tr style=\"text-align: right;\">\n",
       "      <th></th>\n",
       "      <th>popularity</th>\n",
       "      <th>budget</th>\n",
       "      <th>revenue</th>\n",
       "      <th>original_title</th>\n",
       "      <th>cast</th>\n",
       "      <th>director</th>\n",
       "      <th>runtime</th>\n",
       "      <th>genres</th>\n",
       "      <th>release_date</th>\n",
       "      <th>release_year</th>\n",
       "      <th>profit</th>\n",
       "      <th>release_month</th>\n",
       "    </tr>\n",
       "  </thead>\n",
       "  <tbody>\n",
       "    <tr>\n",
       "      <th>0</th>\n",
       "      <td>32.985763</td>\n",
       "      <td>150000000.0</td>\n",
       "      <td>1513528810</td>\n",
       "      <td>Jurassic World</td>\n",
       "      <td>Chris Pratt|Bryce Dallas Howard|Irrfan Khan|Vi...</td>\n",
       "      <td>Colin Trevorrow</td>\n",
       "      <td>124</td>\n",
       "      <td>Action|Adventure|Science Fiction|Thriller</td>\n",
       "      <td>2015-06-09</td>\n",
       "      <td>2015</td>\n",
       "      <td>1.363529e+09</td>\n",
       "      <td>6</td>\n",
       "    </tr>\n",
       "    <tr>\n",
       "      <th>1</th>\n",
       "      <td>28.419936</td>\n",
       "      <td>150000000.0</td>\n",
       "      <td>378436354</td>\n",
       "      <td>Mad Max: Fury Road</td>\n",
       "      <td>Tom Hardy|Charlize Theron|Hugh Keays-Byrne|Nic...</td>\n",
       "      <td>George Miller</td>\n",
       "      <td>120</td>\n",
       "      <td>Action|Adventure|Science Fiction|Thriller</td>\n",
       "      <td>2015-05-13</td>\n",
       "      <td>2015</td>\n",
       "      <td>2.284364e+08</td>\n",
       "      <td>5</td>\n",
       "    </tr>\n",
       "    <tr>\n",
       "      <th>2</th>\n",
       "      <td>13.112507</td>\n",
       "      <td>110000000.0</td>\n",
       "      <td>295238201</td>\n",
       "      <td>Insurgent</td>\n",
       "      <td>Shailene Woodley|Theo James|Kate Winslet|Ansel...</td>\n",
       "      <td>Robert Schwentke</td>\n",
       "      <td>119</td>\n",
       "      <td>Adventure|Science Fiction|Thriller</td>\n",
       "      <td>2015-03-18</td>\n",
       "      <td>2015</td>\n",
       "      <td>1.852382e+08</td>\n",
       "      <td>3</td>\n",
       "    </tr>\n",
       "    <tr>\n",
       "      <th>3</th>\n",
       "      <td>11.173104</td>\n",
       "      <td>200000000.0</td>\n",
       "      <td>2068178225</td>\n",
       "      <td>Star Wars: The Force Awakens</td>\n",
       "      <td>Harrison Ford|Mark Hamill|Carrie Fisher|Adam D...</td>\n",
       "      <td>J.J. Abrams</td>\n",
       "      <td>136</td>\n",
       "      <td>Action|Adventure|Science Fiction|Fantasy</td>\n",
       "      <td>2015-12-15</td>\n",
       "      <td>2015</td>\n",
       "      <td>1.868178e+09</td>\n",
       "      <td>12</td>\n",
       "    </tr>\n",
       "    <tr>\n",
       "      <th>4</th>\n",
       "      <td>9.335014</td>\n",
       "      <td>190000000.0</td>\n",
       "      <td>1506249360</td>\n",
       "      <td>Furious 7</td>\n",
       "      <td>Vin Diesel|Paul Walker|Jason Statham|Michelle ...</td>\n",
       "      <td>James Wan</td>\n",
       "      <td>137</td>\n",
       "      <td>Action|Crime|Thriller</td>\n",
       "      <td>2015-04-01</td>\n",
       "      <td>2015</td>\n",
       "      <td>1.316249e+09</td>\n",
       "      <td>4</td>\n",
       "    </tr>\n",
       "  </tbody>\n",
       "</table>\n",
       "</div>"
      ],
      "text/plain": [
       "   popularity       budget     revenue                original_title  \\\n",
       "0   32.985763  150000000.0  1513528810                Jurassic World   \n",
       "1   28.419936  150000000.0   378436354            Mad Max: Fury Road   \n",
       "2   13.112507  110000000.0   295238201                     Insurgent   \n",
       "3   11.173104  200000000.0  2068178225  Star Wars: The Force Awakens   \n",
       "4    9.335014  190000000.0  1506249360                     Furious 7   \n",
       "\n",
       "                                                cast          director  \\\n",
       "0  Chris Pratt|Bryce Dallas Howard|Irrfan Khan|Vi...   Colin Trevorrow   \n",
       "1  Tom Hardy|Charlize Theron|Hugh Keays-Byrne|Nic...     George Miller   \n",
       "2  Shailene Woodley|Theo James|Kate Winslet|Ansel...  Robert Schwentke   \n",
       "3  Harrison Ford|Mark Hamill|Carrie Fisher|Adam D...       J.J. Abrams   \n",
       "4  Vin Diesel|Paul Walker|Jason Statham|Michelle ...         James Wan   \n",
       "\n",
       "   runtime                                     genres release_date  \\\n",
       "0      124  Action|Adventure|Science Fiction|Thriller   2015-06-09   \n",
       "1      120  Action|Adventure|Science Fiction|Thriller   2015-05-13   \n",
       "2      119         Adventure|Science Fiction|Thriller   2015-03-18   \n",
       "3      136   Action|Adventure|Science Fiction|Fantasy   2015-12-15   \n",
       "4      137                      Action|Crime|Thriller   2015-04-01   \n",
       "\n",
       "   release_year        profit  release_month  \n",
       "0          2015  1.363529e+09              6  \n",
       "1          2015  2.284364e+08              5  \n",
       "2          2015  1.852382e+08              3  \n",
       "3          2015  1.868178e+09             12  \n",
       "4          2015  1.316249e+09              4  "
      ]
     },
     "execution_count": 53,
     "metadata": {},
     "output_type": "execute_result"
    }
   ],
   "source": [
    "df.head()"
   ]
  },
  {
   "cell_type": "markdown",
   "id": "77c06ec5",
   "metadata": {},
   "source": [
    "\n",
    "### Applying Linear Regression"
   ]
  },
  {
   "cell_type": "code",
   "execution_count": 68,
   "id": "ddbe77c4",
   "metadata": {},
   "outputs": [
    {
     "data": {
      "text/plain": [
       "popularity               float64\n",
       "budget                   float64\n",
       "revenue                  float64\n",
       "original_title            object\n",
       "cast                      object\n",
       "director                  object\n",
       "runtime                    int64\n",
       "genres                    object\n",
       "release_date      datetime64[ns]\n",
       "release_year               int64\n",
       "profit                   float64\n",
       "release_month              int64\n",
       "dtype: object"
      ]
     },
     "execution_count": 68,
     "metadata": {},
     "output_type": "execute_result"
    }
   ],
   "source": [
    "df.dtypes"
   ]
  },
  {
   "cell_type": "code",
   "execution_count": 69,
   "id": "6f75418b",
   "metadata": {},
   "outputs": [],
   "source": [
    " df['revenue']=df['revenue'].astype(float)\n",
    " #df['original_title']=df['original_title'].astype(str)"
   ]
  },
  {
   "cell_type": "code",
   "execution_count": 70,
   "id": "7d0af126",
   "metadata": {},
   "outputs": [
    {
     "data": {
      "text/plain": [
       "popularity               float64\n",
       "budget                   float64\n",
       "revenue                  float64\n",
       "original_title            object\n",
       "cast                      object\n",
       "director                  object\n",
       "runtime                    int64\n",
       "genres                    object\n",
       "release_date      datetime64[ns]\n",
       "release_year               int64\n",
       "profit                   float64\n",
       "release_month              int64\n",
       "dtype: object"
      ]
     },
     "execution_count": 70,
     "metadata": {},
     "output_type": "execute_result"
    }
   ],
   "source": [
    "df.dtypes"
   ]
  },
  {
   "cell_type": "code",
   "execution_count": 71,
   "id": "cade79f6",
   "metadata": {},
   "outputs": [],
   "source": [
    "dependent_variable = 'profit'"
   ]
  },
  {
   "cell_type": "code",
   "execution_count": 72,
   "id": "1f370ed7",
   "metadata": {},
   "outputs": [],
   "source": [
    "independent_variables = ['popularity','budget','revenue','runtime']"
   ]
  },
  {
   "cell_type": "code",
   "execution_count": 73,
   "id": "039b02ba",
   "metadata": {},
   "outputs": [
    {
     "data": {
      "text/plain": [
       "['popularity', 'budget', 'revenue', 'runtime']"
      ]
     },
     "execution_count": 73,
     "metadata": {},
     "output_type": "execute_result"
    }
   ],
   "source": [
    "independent_variables"
   ]
  },
  {
   "cell_type": "code",
   "execution_count": 74,
   "id": "bd0bd4f8",
   "metadata": {},
   "outputs": [],
   "source": [
    "# Create the data of independent vriables\n",
    "X = df[independent_variables].values\n",
    "\n",
    "# Create the dependent variable data\n",
    "y = df[dependent_variable].values\n",
    "#X = ['popularity','budget','revenue']\n",
    "#y ='profit'"
   ]
  },
  {
   "cell_type": "code",
   "execution_count": 75,
   "id": "036a0cc8",
   "metadata": {},
   "outputs": [],
   "source": [
    "#Splitting the dataset into the training and testing set\n",
    "X_train, X_test, y_train, y_test = train_test_split(X,y,test_size=0.2,random_state = 0)"
   ]
  },
  {
   "cell_type": "code",
   "execution_count": 76,
   "id": "bac187a0",
   "metadata": {},
   "outputs": [
    {
     "data": {
      "text/html": [
       "<style>#sk-container-id-2 {color: black;background-color: white;}#sk-container-id-2 pre{padding: 0;}#sk-container-id-2 div.sk-toggleable {background-color: white;}#sk-container-id-2 label.sk-toggleable__label {cursor: pointer;display: block;width: 100%;margin-bottom: 0;padding: 0.3em;box-sizing: border-box;text-align: center;}#sk-container-id-2 label.sk-toggleable__label-arrow:before {content: \"▸\";float: left;margin-right: 0.25em;color: #696969;}#sk-container-id-2 label.sk-toggleable__label-arrow:hover:before {color: black;}#sk-container-id-2 div.sk-estimator:hover label.sk-toggleable__label-arrow:before {color: black;}#sk-container-id-2 div.sk-toggleable__content {max-height: 0;max-width: 0;overflow: hidden;text-align: left;background-color: #f0f8ff;}#sk-container-id-2 div.sk-toggleable__content pre {margin: 0.2em;color: black;border-radius: 0.25em;background-color: #f0f8ff;}#sk-container-id-2 input.sk-toggleable__control:checked~div.sk-toggleable__content {max-height: 200px;max-width: 100%;overflow: auto;}#sk-container-id-2 input.sk-toggleable__control:checked~label.sk-toggleable__label-arrow:before {content: \"▾\";}#sk-container-id-2 div.sk-estimator input.sk-toggleable__control:checked~label.sk-toggleable__label {background-color: #d4ebff;}#sk-container-id-2 div.sk-label input.sk-toggleable__control:checked~label.sk-toggleable__label {background-color: #d4ebff;}#sk-container-id-2 input.sk-hidden--visually {border: 0;clip: rect(1px 1px 1px 1px);clip: rect(1px, 1px, 1px, 1px);height: 1px;margin: -1px;overflow: hidden;padding: 0;position: absolute;width: 1px;}#sk-container-id-2 div.sk-estimator {font-family: monospace;background-color: #f0f8ff;border: 1px dotted black;border-radius: 0.25em;box-sizing: border-box;margin-bottom: 0.5em;}#sk-container-id-2 div.sk-estimator:hover {background-color: #d4ebff;}#sk-container-id-2 div.sk-parallel-item::after {content: \"\";width: 100%;border-bottom: 1px solid gray;flex-grow: 1;}#sk-container-id-2 div.sk-label:hover label.sk-toggleable__label {background-color: #d4ebff;}#sk-container-id-2 div.sk-serial::before {content: \"\";position: absolute;border-left: 1px solid gray;box-sizing: border-box;top: 0;bottom: 0;left: 50%;z-index: 0;}#sk-container-id-2 div.sk-serial {display: flex;flex-direction: column;align-items: center;background-color: white;padding-right: 0.2em;padding-left: 0.2em;position: relative;}#sk-container-id-2 div.sk-item {position: relative;z-index: 1;}#sk-container-id-2 div.sk-parallel {display: flex;align-items: stretch;justify-content: center;background-color: white;position: relative;}#sk-container-id-2 div.sk-item::before, #sk-container-id-2 div.sk-parallel-item::before {content: \"\";position: absolute;border-left: 1px solid gray;box-sizing: border-box;top: 0;bottom: 0;left: 50%;z-index: -1;}#sk-container-id-2 div.sk-parallel-item {display: flex;flex-direction: column;z-index: 1;position: relative;background-color: white;}#sk-container-id-2 div.sk-parallel-item:first-child::after {align-self: flex-end;width: 50%;}#sk-container-id-2 div.sk-parallel-item:last-child::after {align-self: flex-start;width: 50%;}#sk-container-id-2 div.sk-parallel-item:only-child::after {width: 0;}#sk-container-id-2 div.sk-dashed-wrapped {border: 1px dashed gray;margin: 0 0.4em 0.5em 0.4em;box-sizing: border-box;padding-bottom: 0.4em;background-color: white;}#sk-container-id-2 div.sk-label label {font-family: monospace;font-weight: bold;display: inline-block;line-height: 1.2em;}#sk-container-id-2 div.sk-label-container {text-align: center;}#sk-container-id-2 div.sk-container {/* jupyter's `normalize.less` sets `[hidden] { display: none; }` but bootstrap.min.css set `[hidden] { display: none !important; }` so we also need the `!important` here to be able to override the default hidden behavior on the sphinx rendered scikit-learn.org. See: https://github.com/scikit-learn/scikit-learn/issues/21755 */display: inline-block !important;position: relative;}#sk-container-id-2 div.sk-text-repr-fallback {display: none;}</style><div id=\"sk-container-id-2\" class=\"sk-top-container\"><div class=\"sk-text-repr-fallback\"><pre>LinearRegression()</pre><b>In a Jupyter environment, please rerun this cell to show the HTML representation or trust the notebook. <br />On GitHub, the HTML representation is unable to render, please try loading this page with nbviewer.org.</b></div><div class=\"sk-container\" hidden><div class=\"sk-item\"><div class=\"sk-estimator sk-toggleable\"><input class=\"sk-toggleable__control sk-hidden--visually\" id=\"sk-estimator-id-2\" type=\"checkbox\" checked><label for=\"sk-estimator-id-2\" class=\"sk-toggleable__label sk-toggleable__label-arrow\">LinearRegression</label><div class=\"sk-toggleable__content\"><pre>LinearRegression()</pre></div></div></div></div></div>"
      ],
      "text/plain": [
       "LinearRegression()"
      ]
     },
     "execution_count": 76,
     "metadata": {},
     "output_type": "execute_result"
    }
   ],
   "source": [
    "# Fitting Multiple Linear Regression to the Training Set\n",
    "from sklearn.linear_model import LinearRegression\n",
    "ml = LinearRegression()\n",
    "ml.fit(X_train,y_train)"
   ]
  },
  {
   "cell_type": "code",
   "execution_count": 77,
   "id": "817da089",
   "metadata": {},
   "outputs": [
    {
     "name": "stdout",
     "output_type": "stream",
     "text": [
      "[-1.93968655e+06 -2.58987921e+06  1.33034315e+08  6.62418902e+05\n",
      "  2.94615670e+07  3.58282823e+07  3.01571425e+08  2.50330588e+07\n",
      "  4.38001807e+08  4.82083733e+06  1.85628784e+08  1.05511149e+08\n",
      "  1.38541441e+06  2.03236784e+08  8.66195203e+07  4.16016714e+08\n",
      " -8.33818073e+06  1.43045024e+07  2.68548796e+08 -9.21041201e+06\n",
      " -8.62831958e+06 -1.59404352e+07 -9.80880226e+06 -6.13433872e+06\n",
      "  8.64943340e+07  5.12652873e+06  1.28490434e+07 -6.59648829e+06\n",
      "  9.34460674e+06  2.25032616e+06  3.27351564e+08  5.92748186e+07\n",
      " -3.06047926e+06 -7.46969483e+06  7.49812074e+06  2.20511928e+07\n",
      "  5.84866580e+07 -8.34660703e+06  5.11635607e+07  7.13859499e+07\n",
      "  4.66162969e+06  1.06894442e+08  4.30966964e+07 -6.27958356e+06\n",
      "  6.44632328e+07  1.11989173e+08  2.81293114e+07  2.15934905e+08\n",
      "  5.66666984e+06 -6.68920819e+06 -1.07103393e+06  8.03140457e+07\n",
      "  3.04661298e+07  1.92854322e+08  9.67817513e+07  8.15104382e+07\n",
      "  3.30129424e+08 -1.45990246e+07  6.94767289e+07  7.23406559e+08\n",
      "  1.41102949e+08  5.57121936e+07  4.09151784e+07  3.54256488e+06\n",
      " -1.20554659e+06  1.38151006e+07  8.74424187e+06  1.69870996e+07\n",
      " -1.18376431e+07 -1.23536299e+07  2.87459716e+07  7.66252305e+07\n",
      " -5.10880833e+06  3.71768533e+07  1.45760998e+08 -1.22311096e+07\n",
      " -5.56376678e+06 -5.65112917e+06  4.88610952e+08  2.46599588e+07\n",
      " -7.23253919e+06 -1.30839961e+07  8.44937195e+06  9.40670886e+06\n",
      "  4.09811403e+07 -1.20626322e+06 -5.70011142e+06 -5.30034613e+06\n",
      " -8.08588302e+06 -1.27613932e+07  1.88761970e+07  1.42347835e+08\n",
      "  5.01350912e+07 -7.63925692e+06  2.07566595e+07  7.61264614e+07\n",
      "  7.26770324e+07  3.04116720e+07 -3.15461455e+06  1.15088239e+08\n",
      "  4.70308869e+07  2.96903836e+08  2.99649251e+08  1.09765099e+06\n",
      "  3.79417443e+08 -1.55756569e+07  2.42608374e+08  2.12022093e+07\n",
      "  3.87043215e+06  9.48339419e+07  4.65980892e+07  5.17639312e+07\n",
      "  3.46916387e+07  1.68084082e+06  2.41791900e+07  1.41827559e+08\n",
      " -3.36710399e+06  4.58190528e+07  3.77927838e+07  2.19719385e+07\n",
      "  5.07352625e+08 -3.67200327e+06  5.39076907e+07  2.67283790e+07\n",
      "  2.56356732e+07  6.39807153e+06  4.58944688e+06  1.33014945e+07\n",
      "  1.47701176e+07  4.57234745e+07  2.57189689e+07  9.54482421e+05\n",
      " -8.17286572e+06  2.31828578e+08 -1.11071430e+07  8.18257202e+07\n",
      "  3.36607328e+07  4.18306624e+07  2.12731635e+07  2.16680824e+08\n",
      "  8.85782487e+07  5.72974556e+07 -6.34711044e+05  1.57465236e+08\n",
      "  5.31306141e+08 -9.70685191e+06  3.71649524e+07  1.48946104e+08\n",
      "  1.65504811e+08  7.18415291e+07  1.23525746e+07  7.38245298e+07\n",
      "  8.61340526e+07  1.20869454e+08  3.08907512e+07  2.03340713e+08\n",
      " -4.64306045e+06  4.29379245e+07  3.74563250e+07  2.27623730e+08\n",
      "  1.17744919e+08  1.72872098e+08  1.12794027e+08  3.93866892e+07\n",
      "  4.24918333e+07  1.81848030e+07  8.76641277e+07  3.28422647e+07\n",
      " -1.40826956e+07  7.96153484e+06  5.48023588e+06  1.81130674e+08\n",
      "  1.98902570e+07  3.85526632e+06  4.12795985e+06 -3.63289290e+06\n",
      "  1.23347227e+08  4.77279318e+07 -8.60122598e+06  2.10627749e+07\n",
      "  6.85065524e+06  2.95853445e+08  2.51869312e+08  2.11708245e+07\n",
      "  1.56087159e+07  6.04270493e+07  1.98464040e+07  1.68873664e+07\n",
      "  1.62834403e+08  1.82185922e+07 -7.79617730e+06  9.78074109e+06\n",
      "  3.37411441e+07  5.63166060e+05  1.24636476e+09  4.09190596e+07\n",
      "  4.85752257e+06  2.05593396e+08  2.24623554e+07  1.02778534e+08\n",
      "  4.57359919e+05  1.06266493e+08  1.71725477e+08  1.00401956e+07\n",
      "  4.60741542e+07  1.02960970e+07  1.16130142e+08  1.25872243e+07\n",
      " -1.98922775e+06  7.38819357e+07  7.95105457e+06  1.00794060e+07\n",
      " -1.23671737e+07  3.44347925e+08  1.31202772e+08 -1.18421878e+07\n",
      "  1.18989227e+07 -1.24384281e+06  6.48191932e+06  7.59736976e+08\n",
      "  2.49174046e+08  4.37493460e+05  7.87212718e+07  3.16998831e+06\n",
      "  7.76762209e+07 -6.17311142e+06  9.43045761e+08  3.55342567e+06\n",
      " -2.43690964e+06  1.40385169e+07 -1.44690081e+07  3.83207995e+08\n",
      "  1.72705844e+08  7.31684199e+07  1.99648530e+07  1.08641106e+07\n",
      " -9.81140962e+06  3.70283804e+07  2.66977653e+07  1.84875119e+08\n",
      " -1.52052835e+07  3.08096992e+08  1.97870678e+06  4.21969097e+07\n",
      "  4.77025444e+07  2.53244447e+08 -2.99888308e+06  8.32391951e+07\n",
      "  4.76782352e+07  6.99807107e+07 -1.28431527e+06 -1.53354936e+07\n",
      "  5.12060307e+07 -8.88852685e+06 -2.84098820e+06  6.93235980e+07\n",
      "  2.63696031e+07  8.30667680e+06  2.18606417e+08 -1.31822604e+06\n",
      "  3.44302364e+07 -7.88726084e+06  8.95441841e+06 -1.36011182e+07\n",
      "  2.05694528e+08  1.67544725e+08 -9.44701039e+06 -8.23740824e+06\n",
      "  1.67087416e+06  8.32804359e+07 -9.61472135e+06  4.99504364e+07\n",
      "  7.38185093e+07  6.47776900e+08  6.69256208e+07 -7.29293059e+06\n",
      "  3.12013402e+07 -7.34232394e+06  1.07107199e+07  1.10794764e+07\n",
      "  1.91830985e+08  5.02169607e+07  3.73674655e+06  1.09687637e+08\n",
      "  6.77629155e+07  1.00800378e+07  8.16582312e+06 -4.82323775e+06\n",
      "  3.51239758e+08  6.55855266e+07  5.81121130e+07  1.50836323e+08\n",
      "  7.63358275e+06 -3.13064463e+05  2.37171027e+07  1.77183522e+08\n",
      "  1.47784159e+08  1.21089618e+07 -7.22956780e+06  5.75267544e+06\n",
      "  6.90528349e+07  5.09354526e+07  1.29620897e+07  5.63064963e+07\n",
      "  7.00578296e+07  1.28201948e+08  1.31541252e+07  6.88833886e+07\n",
      "  1.06923507e+08  3.56663052e+08 -1.92761009e+05  1.83580034e+08\n",
      "  2.01042866e+07  3.40988758e+07  2.26556078e+08  7.10503587e+07\n",
      "  3.80397855e+07  1.05337750e+07  7.77090798e+07  9.86920810e+07\n",
      " -1.02421446e+07  9.07283796e+08  1.24370432e+08  1.17510641e+08\n",
      "  8.27073802e+04 -3.36835060e+06  1.68401140e+08  5.32369247e+07\n",
      " -1.43947777e+07  6.42676765e+07  2.10166817e+08  2.97007170e+07\n",
      "  5.77690603e+06  1.70844733e+07 -5.52775362e+06  2.53144175e+08\n",
      " -1.17485464e+06  2.72747438e+07 -3.57759245e+06  2.60426567e+07\n",
      "  6.62497147e+07  9.49612730e+07 -9.24069389e+06 -1.49412011e+07\n",
      "  2.58513234e+08  5.57191905e+06  2.11219399e+07  2.74789785e+07\n",
      " -1.15365813e+06  2.74682093e+07  1.86336038e+06  2.76327744e+07\n",
      "  4.54273566e+06  3.88502330e+07  2.15760367e+06 -1.06338827e+07\n",
      "  2.29557871e+07 -1.15373053e+07 -9.95814420e+06  9.52906031e+07\n",
      "  1.66180014e+08 -9.51866939e+06  1.16296554e+05  1.20325737e+07\n",
      "  1.61925870e+08  9.58862222e+06  1.05715746e+08  5.15314437e+07\n",
      " -2.07566988e+06  1.06472000e+06  2.33826447e+07 -9.01622328e+06\n",
      "  1.20350860e+07  4.22004391e+08  5.02298292e+08  1.59878420e+08\n",
      "  4.64405702e+07 -9.01446743e+06  2.05764163e+07  8.06844839e+07\n",
      "  1.75418994e+08 -4.47712054e+06  1.53338091e+08  8.19532374e+07\n",
      "  3.66605522e+08 -1.06470432e+07  5.61208768e+06 -4.14860618e+06\n",
      "  2.43732380e+07  1.13703339e+08  1.69283342e+07  4.27914142e+07\n",
      "  6.77748471e+06  7.43078027e+06  5.84101268e+07  1.33829256e+07\n",
      " -7.99750465e+06  4.27751348e+07 -1.24534201e+07  1.08083077e+07\n",
      "  3.56209424e+08  1.09001829e+08  9.33071053e+06 -3.95466657e+06\n",
      " -9.54291167e+06 -1.32186171e+07  2.99928351e+08  4.24342453e+07\n",
      "  1.83151282e+06  3.14013669e+06  4.74656041e+07  1.17853636e+08\n",
      "  1.96840951e+07 -5.56848890e+06  5.64462594e+06  3.00962241e+08\n",
      "  3.47757025e+07  1.52074680e+08 -1.26140187e+07  1.19593105e+08\n",
      "  2.11212034e+08 -1.06884356e+07  1.46249966e+08  6.34356598e+07\n",
      " -7.44505375e+06 -1.00610596e+07  1.49458893e+08  2.58545929e+08\n",
      "  1.90075704e+07  1.90931380e+08  1.57870955e+08  1.60441382e+07\n",
      "  2.66283762e+08  5.41960924e+07 -5.08768408e+06  9.49180514e+07\n",
      "  1.69870906e+07 -1.44790702e+07  1.13207687e+08  3.61297978e+07\n",
      "  1.30881495e+07  2.01990496e+07 -5.15429190e+06 -1.01715111e+07\n",
      "  3.09250708e+06  1.30272082e+08  6.28779860e+07  6.37671397e+06\n",
      "  1.98171740e+07  1.43691458e+08  1.92180500e+07  2.65979151e+08\n",
      " -9.20091809e+06 -4.69029945e+06  1.59361721e+07 -5.10183823e+06\n",
      "  1.17100838e+08  5.67330186e+07  1.19112254e+08 -5.12925113e+06\n",
      "  1.10708218e+07  9.53492595e+07  1.77091027e+08 -9.29767489e+06\n",
      " -5.75904285e+06  3.12647182e+07  5.49022782e+07 -1.12959306e+07\n",
      " -7.94611250e+06  2.73616464e+07  1.15849582e+08  7.67062294e+07\n",
      "  1.00303427e+07  2.43631871e+07  1.26501201e+07  1.59237486e+08\n",
      "  3.78607445e+08  3.80125336e+06  2.10033323e+08  3.53866878e+07\n",
      " -2.89090600e+06  1.48520586e+08  1.62763015e+08  1.97360940e+07\n",
      "  3.65044703e+07  2.24778149e+07  7.30430765e+07  4.80616936e+08\n",
      "  3.41970283e+07  2.90473967e+07  1.08452954e+07  2.18895367e+08\n",
      "  2.23093164e+08 -1.48967825e+07  2.97520580e+07 -9.16301974e+06\n",
      " -4.80142578e+06  3.74728323e+07  2.08612977e+08  4.53244597e+07\n",
      "  1.89058704e+07  4.75316169e+07  6.97969175e+07 -6.98101962e+06\n",
      " -1.69136746e+06 -1.05848313e+07  9.39200861e+07  1.69626408e+08\n",
      "  2.61815134e+06  6.77391947e+07  1.40659254e+07  1.08391121e+08\n",
      "  3.72025490e+08 -8.52227894e+06  3.39550325e+07  3.65143156e+08\n",
      "  1.04498985e+07  2.81587168e+08  2.81177764e+07  2.90473518e+07\n",
      " -6.81541610e+06  2.36296923e+07 -9.58277770e+07 -4.74653809e+06\n",
      "  4.13009631e+07  1.41186904e+06  5.32774830e+06  3.02246037e+06\n",
      "  6.35429066e+08  9.65893782e+08  2.78268691e+08  4.50863397e+06\n",
      "  1.11785980e+09 -8.11094272e+06  6.93864985e+06  2.36539058e+08\n",
      "  5.78733525e+07 -2.92279156e+06 -2.91320774e+06  5.91802161e+07\n",
      "  1.26079228e+07  7.09000495e+07  2.99032363e+07  2.89143505e+07\n",
      "  2.12702333e+07  5.77470680e+07 -9.08313432e+06 -9.93879023e+06\n",
      " -2.36490914e+06  2.30466011e+07  3.77789501e+08 -2.42495715e+07\n",
      "  1.63892430e+05  1.62419312e+07  1.05708162e+08  5.11321162e+07\n",
      "  1.03700677e+08  1.73175230e+07  5.61477841e+07  2.07362421e+06\n",
      "  2.29969014e+08  1.36330507e+07  4.80622204e+07  4.06482243e+08\n",
      "  2.02195460e+08  1.98591337e+07  1.06233901e+08  2.48271697e+08\n",
      " -1.74401641e+07  1.03145900e+08  3.58916797e+07  3.18823605e+06\n",
      "  1.98203737e+08 -7.20381620e+06  1.99805049e+08  3.25589425e+06\n",
      " -8.73905313e+06  1.21706192e+07  3.83887914e+07  5.49224016e+06\n",
      "  3.62534922e+06  2.08610928e+07  3.54181078e+06  3.25503600e+08\n",
      " -1.14381272e+07  8.52338866e+07  3.28720207e+07  4.58175793e+07\n",
      "  2.74082216e+07 -2.03465288e+06  4.62986772e+06  5.83463556e+07\n",
      " -6.09740722e+06 -1.12374394e+07  2.05551043e+07  8.42749753e+06\n",
      "  3.08224586e+07  1.69641472e+08 -1.90915121e+06  1.16316629e+08\n",
      " -1.13854066e+07  2.87795268e+07  3.50451400e+07  1.57637102e+08\n",
      "  3.37107442e+07  3.11025567e+07  3.04907278e+07  1.22496037e+08\n",
      "  4.17284195e+07 -5.12234190e+06  1.35356533e+08 -4.52969308e+05\n",
      "  2.41124488e+07  7.06412283e+07  5.18527063e+06  1.06768892e+07\n",
      "  2.13797412e+07  6.90728021e+06 -6.74920499e+06  5.49353633e+06\n",
      " -3.37390978e+06  1.71369487e+08  5.12344870e+08  1.28187402e+07\n",
      "  6.61974894e+08 -1.23310710e+07 -3.72147501e+06 -1.04374776e+07\n",
      "  1.51157944e+07  6.42481466e+06  1.68789304e+07  1.32523315e+08\n",
      " -1.39165941e+07 -8.14312052e+05  1.20536863e+08 -1.11494941e+07\n",
      " -3.72633348e+06  5.09005233e+06  1.62330322e+08  4.63000111e+05\n",
      "  9.85939688e+07  3.03977815e+07  5.41452098e+07  1.03832276e+07\n",
      "  5.98948020e+07  3.44106208e+08  1.85502954e+08  6.34062789e+06\n",
      "  1.80476708e+08  9.85261063e+06  2.21607822e+07 -6.91938922e+05\n",
      "  1.16356282e+06 -8.01322533e+06  5.01338518e+06  5.92677270e+08\n",
      " -1.40587578e+07  9.07307811e+06  1.02578336e+07  4.88972757e+06\n",
      "  1.03610149e+08  1.03510564e+08  4.69763523e+08  1.90431802e+08\n",
      " -1.17765999e+07  1.91474136e+08  4.59803010e+06  4.35396725e+07\n",
      " -8.41804162e+06  4.24628846e+06  4.18036785e+07  2.88036803e+08\n",
      "  1.59538176e+07  1.22528970e+08 -6.21160378e+06  2.31637656e+07\n",
      "  1.09618421e+08  2.76359377e+07 -5.67493058e+06  5.90903787e+07\n",
      "  3.16815015e+06  1.13639311e+08  8.57895876e+06  4.89259589e+08\n",
      "  1.10987020e+08  2.80911129e+05 -1.09435608e+07  2.30215271e+08\n",
      "  1.22263983e+08  2.31683773e+08  2.76973016e+06 -9.16465965e+06\n",
      "  4.02787232e+07  5.24389672e+07 -1.46081191e+07  1.64442070e+08\n",
      " -8.75896711e+06  4.84319119e+07  5.36702903e+06 -4.67458566e+06\n",
      "  4.16977067e+06  2.42245175e+06  7.92786412e+07 -6.13149362e+06\n",
      "  4.42267661e+07  3.32219452e+06 -1.36116688e+07  2.90238089e+06\n",
      "  1.55572048e+08  6.27681739e+06  6.20093415e+07  3.76293908e+07\n",
      "  9.37089422e+07  6.92401841e+07  5.74355412e+07  2.30186725e+08\n",
      " -1.23239185e+07  3.08181468e+08 -2.65786789e+06 -1.63347682e+06\n",
      "  2.35866493e+07  1.93939537e+08  1.14443271e+08  4.64465607e+08\n",
      "  9.53972735e+07  3.80748727e+07  1.90622762e+08  1.38248635e+08\n",
      "  2.83602329e+07  7.61412804e+07 -7.49103318e+06  4.67127558e+07\n",
      "  9.45375353e+06 -9.15818793e+06  8.37980630e+07  2.39670631e+06\n",
      "  5.16521592e+07 -1.29935942e+07 -1.09059571e+07 -1.16620810e+06\n",
      "  2.43369298e+07  4.22628787e+07  2.34104156e+07  2.35778289e+07\n",
      "  2.07958900e+07  2.08956804e+07  1.66233943e+07  1.05133114e+08\n",
      "  1.31093513e+08  6.15688956e+07 -3.68264748e+06  1.09242392e+07\n",
      "  1.46080600e+08  1.57002682e+07 -1.19751989e+07  1.12758061e+06\n",
      "  5.43922953e+07  2.76022217e+06  6.11784329e+07  9.28907196e+06\n",
      "  1.73333249e+06  4.56417316e+07 -1.70555818e+07  3.39379283e+07\n",
      " -6.39356919e+06 -2.19464648e+06  4.28640412e+08 -8.56857447e+06\n",
      "  3.75179752e+07  3.18303983e+07]\n"
     ]
    }
   ],
   "source": [
    "# Predicting on the test data set\n",
    "y_pred = ml.predict(X_test)\n",
    "print(y_pred) "
   ]
  },
  {
   "cell_type": "markdown",
   "id": "cdc45111",
   "metadata": {},
   "source": [
    "### Hit Or Flop ?"
   ]
  },
  {
   "cell_type": "code",
   "execution_count": 78,
   "id": "b89341af",
   "metadata": {},
   "outputs": [],
   "source": [
    "def fun(profit):\n",
    "    if(profit > 0):\n",
    "        print(\"Movie will be a HIT\")\n",
    "    else:\n",
    "        print(\"Movie might be potential flop\")"
   ]
  },
  {
   "cell_type": "markdown",
   "id": "b278cd13",
   "metadata": {},
   "source": [
    "### Testing for values already in Dataset"
   ]
  },
  {
   "cell_type": "code",
   "execution_count": 79,
   "id": "4c9f4b10",
   "metadata": {},
   "outputs": [
    {
     "name": "stdout",
     "output_type": "stream",
     "text": [
      "1594088493.4077456\n",
      "\n",
      "Movie will be a HIT\n"
     ]
    }
   ],
   "source": [
    "arr=ml.predict([[32.985763, 150000000.0 ,1513528810,124]])\n",
    "profit=arr[0]\n",
    "print(profit)\n",
    "print()\n",
    "fun(profit)"
   ]
  },
  {
   "cell_type": "code",
   "execution_count": 80,
   "id": "11c6ff06",
   "metadata": {},
   "outputs": [
    {
     "name": "stdout",
     "output_type": "stream",
     "text": [
      "-6099837.998527303\n",
      "\n",
      "Movie might be potential flop\n"
     ]
    }
   ],
   "source": [
    "arr=ml.predict([[0.921653,150000000.0,38992758.0,88]])\n",
    "profit=arr[0]\n",
    "print(profit)\n",
    "print()\n",
    "fun(profit)"
   ]
  },
  {
   "cell_type": "code",
   "execution_count": 81,
   "id": "998997a9",
   "metadata": {},
   "outputs": [
    {
     "name": "stdout",
     "output_type": "stream",
     "text": [
      "-2166457940847502.0\n",
      "\n",
      "Movie might be potential flop\n"
     ]
    }
   ],
   "source": [
    "arr=ml.predict([[1.653031,10000000038992758.0,250.0,88]])\n",
    "profit=arr[0]\n",
    "print(profit)\n",
    "print()\n",
    "fun(profit)"
   ]
  }
 ],
 "metadata": {
  "kernelspec": {
   "display_name": "Python 3",
   "language": "python",
   "name": "python3"
  },
  "language_info": {
   "codemirror_mode": {
    "name": "ipython",
    "version": 3
   },
   "file_extension": ".py",
   "mimetype": "text/x-python",
   "name": "python",
   "nbconvert_exporter": "python",
   "pygments_lexer": "ipython3",
   "version": "3.8.8"
  }
 },
 "nbformat": 4,
 "nbformat_minor": 5
}
